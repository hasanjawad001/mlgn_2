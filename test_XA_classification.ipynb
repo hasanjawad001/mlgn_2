{
 "cells": [
  {
   "cell_type": "code",
   "execution_count": 2,
   "metadata": {},
   "outputs": [
    {
     "name": "stdout",
     "output_type": "stream",
     "text": [
      "Collecting package metadata (current_repodata.json): ...working... done\n",
      "Solving environment: ...working... done\n",
      "\n",
      "# All requested packages already installed.\n",
      "\n"
     ]
    },
    {
     "name": "stderr",
     "output_type": "stream",
     "text": [
      "\n",
      "\n",
      "==> WARNING: A newer version of conda exists. <==\n",
      "  current version: 4.8.3\n",
      "  latest version: 4.8.4\n",
      "\n",
      "Please update conda by running\n",
      "\n",
      "    $ conda update -n base -c defaults conda\n",
      "\n",
      "\n"
     ]
    }
   ],
   "source": [
    "import tensorflow as tf\n",
    "!conda install -c anaconda seaborn -y"
   ]
  },
  {
   "cell_type": "code",
   "execution_count": 3,
   "metadata": {},
   "outputs": [
    {
     "ename": "ModuleNotFoundError",
     "evalue": "No module named 'sklearn'",
     "output_type": "error",
     "traceback": [
      "\u001b[1;31m---------------------------------------------------------------------------\u001b[0m",
      "\u001b[1;31mModuleNotFoundError\u001b[0m                       Traceback (most recent call last)",
      "\u001b[1;32m<ipython-input-3-521153e105f0>\u001b[0m in \u001b[0;36m<module>\u001b[1;34m\u001b[0m\n\u001b[0;32m      4\u001b[0m \u001b[1;32mimport\u001b[0m \u001b[0mos\u001b[0m\u001b[1;33m\u001b[0m\u001b[1;33m\u001b[0m\u001b[0m\n\u001b[0;32m      5\u001b[0m \u001b[1;32mfrom\u001b[0m \u001b[0mtensorflow\u001b[0m\u001b[1;33m.\u001b[0m\u001b[0mpython\u001b[0m\u001b[1;33m.\u001b[0m\u001b[0mkeras\u001b[0m\u001b[1;33m.\u001b[0m\u001b[0mengine\u001b[0m\u001b[1;33m.\u001b[0m\u001b[0minput_spec\u001b[0m \u001b[1;32mimport\u001b[0m \u001b[0mInputSpec\u001b[0m\u001b[1;33m\u001b[0m\u001b[1;33m\u001b[0m\u001b[0m\n\u001b[1;32m----> 6\u001b[1;33m \u001b[1;32mfrom\u001b[0m \u001b[0msklearn\u001b[0m \u001b[1;32mimport\u001b[0m \u001b[0mpreprocessing\u001b[0m\u001b[1;33m\u001b[0m\u001b[1;33m\u001b[0m\u001b[0m\n\u001b[0m\u001b[0;32m      7\u001b[0m \u001b[1;32mimport\u001b[0m \u001b[0mXAenc\u001b[0m \u001b[1;32mas\u001b[0m \u001b[0mxa\u001b[0m\u001b[1;33m\u001b[0m\u001b[1;33m\u001b[0m\u001b[0m\n\u001b[0;32m      8\u001b[0m \u001b[1;32mimport\u001b[0m \u001b[0mseaborn\u001b[0m \u001b[1;32mas\u001b[0m \u001b[0msns\u001b[0m\u001b[1;33m\u001b[0m\u001b[1;33m\u001b[0m\u001b[0m\n",
      "\u001b[1;31mModuleNotFoundError\u001b[0m: No module named 'sklearn'"
     ]
    }
   ],
   "source": [
    "import time\n",
    "import numpy as np\n",
    "import matplotlib.pyplot as plt\n",
    "import os\n",
    "from tensorflow.python.keras.engine.input_spec import InputSpec\n",
    "from sklearn import preprocessing\n",
    "import XAenc as xa\n",
    "import seaborn as sns\n",
    "\n",
    "tf.random.set_seed(0)\n",
    "np.random.seed(0)\n",
    "\n",
    "os.environ[\"CUDA_VISIBLE_DEVICES\"] = \"2\"\n",
    "tf.executing_eagerly()"
   ]
  },
  {
   "cell_type": "code",
   "execution_count": 4,
   "metadata": {},
   "outputs": [],
   "source": [
    "# This gives a nice interpretation of the attention weights\n",
    "# as well as the new features\n",
    "PARAMS = {  \n",
    "            'p' : 0.5,\n",
    "            'no_redun': 3,\n",
    "    \n",
    "            'corr': 0.2,\n",
    "    \n",
    "            'train_data': 1000,\n",
    "            'val_data': 100,\n",
    "            'test_data': 1000,\n",
    "\n",
    "            'type_problem': 'classification',\n",
    "            #'type_problem': 'regression',\n",
    "    \n",
    "            'batch_size': 32,\n",
    "    \n",
    "            'num_layers': 1,\n",
    "            'arch_enc': [4],\n",
    "            'num_heads': 1,\n",
    "            'dff': 128,\n",
    "            'arch_contrib': [128, 128],\n",
    "    \n",
    "            'no_epochs': 500,\n",
    "            'rate': 0.1\n",
    "        }\n",
    "\n",
    "if PARAMS['type_problem'] == 'classification':\n",
    "    # if classification we have one output\n",
    "    PARAMS['arch_contrib'].append(2)\n",
    "else:\n",
    "    # if regression we have one output\n",
    "    PARAMS['arch_contrib'].append(1)"
   ]
  },
  {
   "cell_type": "markdown",
   "metadata": {},
   "source": [
    "# Generate Data"
   ]
  },
  {
   "cell_type": "code",
   "execution_count": 5,
   "metadata": {},
   "outputs": [],
   "source": [
    "# classification\n",
    "def generate_data_model_1(no_samp, p, no_random):\n",
    "    # AGE and BMI are independent\n",
    "    \n",
    "    #age_bmi = np.random.randn(no_samp, 2)\n",
    "    age_bmi = np.random.multivariate_normal([0,0], \n",
    "                                            [[1,PARAMS['corr']],[PARAMS['corr'],1]], \n",
    "                                            no_samp)*2*1.58-1.58\n",
    "    age = age_bmi[:,[0]]*1.58/2\n",
    "    bmi = age_bmi[:,[1]]*2.58/2\n",
    "    #age = np.random.random(no_samp).reshape(-1,1)*2*1.58-1.58\n",
    "    #bmi = np.random.random(no_samp).reshape(-1,1)*2*2.58-2.58\n",
    "    noise = np.random.random(no_samp).reshape(-1,1)*0.1\n",
    "    \n",
    "    redun = np.random.randn(no_samp, no_random)\n",
    "    \n",
    "    sigmoid = lambda x: 1/(1 + np.exp(-x))\n",
    "    \n",
    "    #y_raw = (1.265*age + 0.0233) + (1-p)*(0.388*bmi-0.325) + p*(1.714*bmi**2-1)\n",
    "    contrib_0 = 0.0233 + (1-p)*(-0.325) + p*(-1)\n",
    "    contrib_age = 1.265*age\n",
    "    contrib_bmi = (1-p)*0.388*bmi + p*1.714*bmi**2\n",
    "    \n",
    "    y_raw = contrib_0 + contrib_age + contrib_bmi + noise\n",
    "    y_prob = np.reshape(sigmoid(y_raw),(-1,1))\n",
    "    y = np.multiply(y_prob >= 0.5,1)\n",
    "    \n",
    "    # need to generate the label with the given probability\n",
    "    #u = np.random.random(size=y_prob.shape)\n",
    "    #y = np.multiply(u > y_prob,1)\n",
    "    \n",
    "    contributions = np.hstack([np.ones((no_samp,1))*contrib_0, contrib_age.reshape(-1,1), contrib_bmi.reshape(-1,1)])\n",
    "    \n",
    "    return np.hstack([y, age, bmi, redun]), contributions\n",
    "\n",
    "# regression\n",
    "def generate_data_model_1_regress(no_samp, p, no_random):\n",
    "    # AGE and BMI are independent\n",
    "    \n",
    "    #age_bmi = np.random.randn(no_samp, 2)\n",
    "#    cofound = np.random.random(no_samp).reshape(-1,1)\n",
    "#     age = 0.5*(cofound + np.random.random(no_samp).reshape(-1,1))*2*1.58-1.58\n",
    "#     bmi = 0.2*(cofound + 4*np.random.random(no_samp).reshape(-1,1))*2*1.58-1.58\n",
    "#     age = np.random.random(no_samp).reshape(-1,1)*2*1.58-1.58\n",
    "#     bmi = np.random.random(no_samp).reshape(-1,1)*2*2.58-2.58\n",
    "\n",
    "    age_bmi = np.random.multivariate_normal([0,0], \n",
    "                                            [[1,PARAMS['corr']],[PARAMS['corr'],1]], \n",
    "                                            no_samp)\n",
    "    age = age_bmi[:,[0]]*1.58/2\n",
    "    bmi = age_bmi[:,[1]]*2.58/2\n",
    "\n",
    "    noise = np.random.random(no_samp).reshape(-1,1)*0.1\n",
    "    \n",
    "    redun = np.random.randn(no_samp, no_random)\n",
    "    \n",
    "    sigmoid = lambda x: 1/(1 + np.exp(-x))\n",
    "    \n",
    "    #y_raw = (1.265*age + 0.0233) + (1-p)*(0.388*bmi-0.325) + p*(1.714*bmi**2-1)\n",
    "    contrib_0 = 0.0233 + (1-p)*(-0.325) + p*(-1)\n",
    "    contrib_age = 1.265*age\n",
    "    contrib_bmi = (1-p)*0.388*bmi + p*1.714*bmi**2\n",
    "    y_raw = contrib_0 + contrib_age + contrib_bmi + noise\n",
    "    #y_prob = np.reshape(sigmoid(y_raw),(-1,1))\n",
    "    #y = np.multiply(y_prob >= 0.5,1)\n",
    "    \n",
    "    # need to generate the label with the given probability\n",
    "    #u = np.random.random(size=y_prob.shape)\n",
    "    #y = np.multiply(u > y_prob,1)\n",
    "    \n",
    "    contributions = np.hstack([np.ones((no_samp,1))*contrib_0, contrib_age.reshape(-1,1), contrib_bmi.reshape(-1,1)])\n",
    "    \n",
    "    return np.hstack([y_raw, age, bmi, redun]), contributions"
   ]
  },
  {
   "cell_type": "markdown",
   "metadata": {},
   "source": [
    "# Data Processing"
   ]
  },
  {
   "cell_type": "code",
   "execution_count": 6,
   "metadata": {},
   "outputs": [],
   "source": [
    "# Generate the data\n",
    "\n",
    "train_size = PARAMS['train_data']\n",
    "test_size = PARAMS['test_data']\n",
    "\n",
    "if PARAMS['type_problem'] == 'classification':\n",
    "    train_dataset, train_contributions = generate_data_model_1(PARAMS['train_data'],\n",
    "                                                               PARAMS['p'],\n",
    "                                                               PARAMS['no_redun'])\n",
    "    x_train = train_dataset[:,1:]\n",
    "    y_train = train_dataset[:,0]\n",
    "    \n",
    "    test_dataset, test_contributions = generate_data_model_1(PARAMS['test_data'],\n",
    "                                                             PARAMS['p'],\n",
    "                                                             PARAMS['no_redun'])\n",
    "    x_test = test_dataset[:,1:]\n",
    "    y_test = test_dataset[:,0]\n",
    "    \n",
    "    val_dataset, val_contributions = generate_data_model_1(PARAMS['val_data'],\n",
    "                                                           PARAMS['p'],\n",
    "                                                           PARAMS['no_redun'])\n",
    "    x_val = val_dataset[:,1:]\n",
    "    y_val = val_dataset[:,0]    \n",
    "    \n",
    "    \n",
    "else:\n",
    "    train_dataset, train_contributions = generate_data_model_1_regress(PARAMS['train_data'],\n",
    "                                                                       PARAMS['p'],\n",
    "                                                                       PARAMS['no_redun'])\n",
    "    x_train = train_dataset[:,1:]\n",
    "    y_train = train_dataset[:,0]    \n",
    "    \n",
    "    test_dataset, test_contributions = generate_data_model_1_regress(PARAMS['test_data'],\n",
    "                                                                     PARAMS['p'],\n",
    "                                                                     PARAMS['no_redun'])\n",
    "    x_test = test_dataset[:,1:]\n",
    "    y_test = test_dataset[:,0] \n",
    "    \n",
    "    val_dataset, val_contributions = generate_data_model_1_regress(PARAMS['val_data'],\n",
    "                                                                   PARAMS['p'],\n",
    "                                                                   PARAMS['no_redun'])\n",
    "    x_val = val_dataset[:,1:]\n",
    "    y_val = val_dataset[:,0]      \n",
    "    \n",
    "#scaler = preprocessing.MinMaxScaler(feature_range=(1, 2))\n",
    "scaler = preprocessing.StandardScaler()\n",
    "scaler.fit(x_train)\n",
    "x_train_scaled = scaler.transform(x_train)\n",
    "x_test_scaled = scaler.transform(x_test)\n",
    "x_val_scaled = scaler.transform(x_val)"
   ]
  },
  {
   "cell_type": "markdown",
   "metadata": {},
   "source": [
    "# TF Dataset Generator"
   ]
  },
  {
   "cell_type": "code",
   "execution_count": 7,
   "metadata": {},
   "outputs": [],
   "source": [
    "def kernel(M,S):\n",
    "    from scipy.special import comb\n",
    "    \n",
    "    b = 0.0\n",
    "    \n",
    "    if (S == 0) | (S == M):\n",
    "        #S = 1/2\n",
    "        #S = M/2\n",
    "        S = M-1\n",
    "        return (M-1.0)/(comb(M,S)*S*(M-S)+b)\n",
    "        #return 0.0\n",
    "    else:\n",
    "        return (M-1.0)/(comb(M,S)*S*(M-S)+b)\n",
    "    \n",
    "def gen_series():\n",
    "    i = 0\n",
    "    while True:\n",
    "        ind = np.random.randint(x_train_scaled.shape[0])\n",
    "        tmp = x_train_scaled[ind,:].copy()\n",
    "\n",
    "        p_miss = np.random.uniform()\n",
    "        # p_miss = PARAMS['p_miss']\n",
    "        \n",
    "        set0 = np.random.choice(2,size=x_train_scaled.shape[1], p=[1-p_miss, p_miss]) == 1\n",
    "        tmp[set0] = np.nan\n",
    "        \n",
    "        M = x_train_scaled.shape[1]\n",
    "        S = M-np.sum(tf.math.is_nan(tmp))\n",
    "        \n",
    "        sample_weight = kernel(M,S)\n",
    "\n",
    "        yield tmp, y_train[ind], sample_weight\n",
    "        \n",
    "# dataset generator\n",
    "ds_train_scaled = tf.data.Dataset.from_generator(\n",
    "    gen_series, \n",
    "    output_types=(tf.float32, tf.float32, tf.float32), \n",
    "    output_shapes=((x_train_scaled.shape[1],), (), ()))\n",
    "\n",
    "ds_train_scaled = ds_train_scaled.batch(PARAMS['batch_size'])"
   ]
  },
  {
   "cell_type": "markdown",
   "metadata": {},
   "source": [
    "# Model"
   ]
  },
  {
   "cell_type": "code",
   "execution_count": 9,
   "metadata": {},
   "outputs": [],
   "source": [
    "class MSEPrintingCallback(tf.keras.callbacks.Callback):\n",
    "\n",
    "    def on_epoch_end(self, epoch, logs=None):\n",
    "        if epoch % 100 == 0:\n",
    "            print('Train performance for epoch {}.'.format(epoch))\n",
    "            for k, v in logs.items():\n",
    "                print(' - ', k, ' = ', v)\n",
    "\n",
    "#lr_schedule = xa.CustomSchedule(PARAMS['d_model'])\n",
    "#opt = tf.keras.optimizers.Adam(lr_schedule, beta_1=0.9, beta_2=0.98, epsilon=1e-9)\n",
    "\n",
    "initial_learning_rate = 0.001\n",
    "lr_schedule = tf.keras.optimizers.schedules.ExponentialDecay(\n",
    "    initial_learning_rate,\n",
    "    decay_steps=1000,\n",
    "    decay_rate=0.96,\n",
    "    staircase=True)\n",
    "opt = tf.keras.optimizers.Adam(learning_rate = lr_schedule)\n",
    "\n",
    "#es = tf.keras.callbacks.EarlyStopping(monitor='accuracy', mode='min', min_delta=0.01, verbose=1, patience=200)\n",
    "#es = tf.keras.callbacks.EarlyStopping(monitor='MSE', mode='min', min_delta=0.01, verbose=1, patience=200)\n",
    "\n",
    "msecb = MSEPrintingCallback()\n",
    "\n",
    "# MODEL\n",
    "\n",
    "my_model = xa.XAModel(PARAMS['num_layers'], PARAMS['arch_enc'], \n",
    "                      PARAMS['num_heads'], PARAMS['dff'], \n",
    "                      PARAMS['arch_contrib'], PARAMS['type_problem'],\n",
    "                      PARAMS['rate'])\n",
    "\n",
    "if PARAMS['type_problem'] == 'classification':\n",
    "    my_model.compile(optimizer=opt,\n",
    "                  loss='sparse_categorical_crossentropy')    \n",
    "else:\n",
    "    my_model.compile(optimizer=opt,\n",
    "                  loss='mean_squared_error')"
   ]
  },
  {
   "cell_type": "code",
   "execution_count": 10,
   "metadata": {},
   "outputs": [
    {
     "name": "stdout",
     "output_type": "stream",
     "text": [
      "WARNING:tensorflow:Entity <bound method XAModel.get_everything of <XAenc.XAModel object at 0x0000019D8E89FA58>> could not be transformed and will be executed as-is. Please report this to the AutoGraph team. When filing the bug, set the verbosity to 10 (on Linux, `export AUTOGRAPH_VERBOSITY=10`) and attach the full output. Cause: Failed to parse source code of <bound method XAModel.get_everything of <XAenc.XAModel object at 0x0000019D8E89FA58>>, which Python reported as:\n",
      "    def get_everything(self, inputs, training):\n",
      "\n",
      "        batch_size = tf.shape(inputs)[0]\n",
      "        seq_len = tf.shape(inputs)[1]\n",
      "\n",
      "        # mask is going to be extracted by finding NaNs\n",
      "        inputs_nan = tf.math.is_nan(inputs)\n",
      "        inputs = tf.where(inputs_nan, tf.zeros_like(inputs), inputs)\n",
      "        #mask = tf.cast(inputs_nan, tf.float32)[:, tf.newaxis, tf.newaxis, :]\n",
      "        mask = tf.expand_dims(inputs_nan,2) | tf.expand_dims(inputs_nan,1) \n",
      "        mask = tf.cast(mask, tf.float32)[:, tf.newaxis, :, :]\n",
      "        #print('Mask')\n",
      "        #print(mask)\n",
      "        #mask = None\n",
      "\n",
      "        # get final embeddings\n",
      "        final_embd, attn_weights = self.encoder(inputs, training, mask) # (batch_size, input_seq_len, d_model)\n",
      "        #final_embd = self.ffn(tmp_embd)\n",
      "\n",
      "        phi = self.ffn_att(final_embd) # (batch_size, input_seq_len, no_outputs)\n",
      "        y = tf.math.reduce_sum(phi, axis=1, keepdims=False) # (batch_size, no_outputs)\n",
      "        y += self.bias # (batch_size, no_outputs)\n",
      "        \n",
      "        if self.type_problem == 'classification':\n",
      "            y_logits = y\n",
      "            y = self.last_layer( y )\n",
      "\n",
      "        if training:\n",
      "            pass\n",
      "        \n",
      "        # add activity regularization for the final embbedings\n",
      "#         innerProd = tf.matmul( final_embd, tf.transpose(final_embd, perm=(0,2,1)) )\n",
      "#         avgAbsInnerProd = tf.reduce_mean( tf.abs( innerProd ), axis=0 )\n",
      "#         sM = tf.expand_dims( tf.sqrt(tf.reduce_sum(final_embd*final_embd, axis=2)), axis=2)\n",
      "#         norm = tf.matmul(sM, tf.transpose(sM, perm=(0,2,1)))\n",
      "#         simMat = tf.reduce_mean( tf.abs(innerProd/norm), axis=0 )\n",
      "        \n",
      "        #simMat = self.activity_reg(avgAbsInnerProd)\n",
      "#         simMat = tf.reduce_mean( innerProd*innerProd, axis=0 )\n",
      "#         simMat = self.activity_reg( simMat )\n",
      "        \n",
      "#         innerProd = self.activity_reg( innerProd )\n",
      "        \n",
      "        #attn_weights = self.activity_reg(attn_weights)\n",
      "    \n",
      "        if self.type_problem == 'classification':\n",
      "            return y, y_logits, phi, final_embd, attn_weights\n",
      "        else:\n",
      "            return y, phi, final_embd, attn_weights\n",
      "\n",
      "This may be caused by multiline strings or comments not indented at the same level as the code.\n",
      "WARNING: Entity <bound method XAModel.get_everything of <XAenc.XAModel object at 0x0000019D8E89FA58>> could not be transformed and will be executed as-is. Please report this to the AutoGraph team. When filing the bug, set the verbosity to 10 (on Linux, `export AUTOGRAPH_VERBOSITY=10`) and attach the full output. Cause: Failed to parse source code of <bound method XAModel.get_everything of <XAenc.XAModel object at 0x0000019D8E89FA58>>, which Python reported as:\n",
      "    def get_everything(self, inputs, training):\n",
      "\n",
      "        batch_size = tf.shape(inputs)[0]\n",
      "        seq_len = tf.shape(inputs)[1]\n",
      "\n",
      "        # mask is going to be extracted by finding NaNs\n",
      "        inputs_nan = tf.math.is_nan(inputs)\n",
      "        inputs = tf.where(inputs_nan, tf.zeros_like(inputs), inputs)\n",
      "        #mask = tf.cast(inputs_nan, tf.float32)[:, tf.newaxis, tf.newaxis, :]\n",
      "        mask = tf.expand_dims(inputs_nan,2) | tf.expand_dims(inputs_nan,1) \n",
      "        mask = tf.cast(mask, tf.float32)[:, tf.newaxis, :, :]\n",
      "        #print('Mask')\n",
      "        #print(mask)\n",
      "        #mask = None\n",
      "\n",
      "        # get final embeddings\n",
      "        final_embd, attn_weights = self.encoder(inputs, training, mask) # (batch_size, input_seq_len, d_model)\n",
      "        #final_embd = self.ffn(tmp_embd)\n",
      "\n",
      "        phi = self.ffn_att(final_embd) # (batch_size, input_seq_len, no_outputs)\n",
      "        y = tf.math.reduce_sum(phi, axis=1, keepdims=False) # (batch_size, no_outputs)\n",
      "        y += self.bias # (batch_size, no_outputs)\n",
      "        \n",
      "        if self.type_problem == 'classification':\n",
      "            y_logits = y\n",
      "            y = self.last_layer( y )\n",
      "\n",
      "        if training:\n",
      "            pass\n",
      "        \n",
      "        # add activity regularization for the final embbedings\n",
      "#         innerProd = tf.matmul( final_embd, tf.transpose(final_embd, perm=(0,2,1)) )\n",
      "#         avgAbsInnerProd = tf.reduce_mean( tf.abs( innerProd ), axis=0 )\n",
      "#         sM = tf.expand_dims( tf.sqrt(tf.reduce_sum(final_embd*final_embd, axis=2)), axis=2)\n",
      "#         norm = tf.matmul(sM, tf.transpose(sM, perm=(0,2,1)))\n",
      "#         simMat = tf.reduce_mean( tf.abs(innerProd/norm), axis=0 )\n",
      "        \n",
      "        #simMat = self.activity_reg(avgAbsInnerProd)\n",
      "#         simMat = tf.reduce_mean( innerProd*innerProd, axis=0 )\n",
      "#         simMat = self.activity_reg( simMat )\n",
      "        \n",
      "#         innerProd = self.activity_reg( innerProd )\n",
      "        \n",
      "        #attn_weights = self.activity_reg(attn_weights)\n",
      "    \n",
      "        if self.type_problem == 'classification':\n",
      "            return y, y_logits, phi, final_embd, attn_weights\n",
      "        else:\n",
      "            return y, phi, final_embd, attn_weights\n",
      "\n",
      "This may be caused by multiline strings or comments not indented at the same level as the code.\n",
      "WARNING:tensorflow:Entity <bound method Encoder.call of <XAenc.Encoder object at 0x0000019D8E89FB00>> could not be transformed and will be executed as-is. Please report this to the AutoGraph team. When filing the bug, set the verbosity to 10 (on Linux, `export AUTOGRAPH_VERBOSITY=10`) and attach the full output. Cause: Failed to parse source code of <bound method Encoder.call of <XAenc.Encoder object at 0x0000019D8E89FB00>>, which Python reported as:\n",
      "  def call(self, x, training, mask):\n",
      "\n",
      "    # no attributes\n",
      "    batch_size = tf.shape(x)[0]\n",
      "    seq_len = tf.shape(x)[1]\n",
      "\n",
      "    # create initial embeddings\n",
      "    ind = tf.range(seq_len)\n",
      "    #tmp_embd = self.embedding(ind)*tf.math.sqrt(tf.cast(self.d_model, tf.float32))\n",
      "    tmp_embd = self.embedding(ind)*tf.math.sqrt(tf.cast(self.d_model-1, tf.float32))\n",
      "    tmp_embd = tf.expand_dims(tmp_embd,0)\n",
      "    attr_embd = tf.tile(tmp_embd,(batch_size,1,1))\n",
      "    attr_embd *= tf.math.sqrt(tf.cast(self.d_model, tf.float32))\n",
      "    \n",
      "    # adding embedding initial embedding\n",
      "    x = tf.expand_dims(x,2)\n",
      "    #x *= tf.math.sqrt(tf.cast(self.d_model, tf.float32))\n",
      "    #x += attr_embd\n",
      "    x = tf.concat([attr_embd, x], axis=2)\n",
      "    x = self.dropout(x, training=training)\n",
      "    \n",
      "    x *= (1-tf.transpose(tf.reduce_prod(mask, axis=-1), perm=[0, 2, 1]))\n",
      "#     print('x')\n",
      "#     print(x)\n",
      "\n",
      "    attn_weights = {}\n",
      "    for i in range(self.num_layers):\n",
      "      x, attn_weights[i] = self.enc_layers[i](x, training, mask)\n",
      "    \n",
      "    return x, attn_weights  # (batch_size, input_seq_len, d_model)\n",
      "\n",
      "This may be caused by multiline strings or comments not indented at the same level as the code.\n",
      "WARNING: Entity <bound method Encoder.call of <XAenc.Encoder object at 0x0000019D8E89FB00>> could not be transformed and will be executed as-is. Please report this to the AutoGraph team. When filing the bug, set the verbosity to 10 (on Linux, `export AUTOGRAPH_VERBOSITY=10`) and attach the full output. Cause: Failed to parse source code of <bound method Encoder.call of <XAenc.Encoder object at 0x0000019D8E89FB00>>, which Python reported as:\n",
      "  def call(self, x, training, mask):\n",
      "\n",
      "    # no attributes\n",
      "    batch_size = tf.shape(x)[0]\n",
      "    seq_len = tf.shape(x)[1]\n",
      "\n",
      "    # create initial embeddings\n",
      "    ind = tf.range(seq_len)\n",
      "    #tmp_embd = self.embedding(ind)*tf.math.sqrt(tf.cast(self.d_model, tf.float32))\n",
      "    tmp_embd = self.embedding(ind)*tf.math.sqrt(tf.cast(self.d_model-1, tf.float32))\n",
      "    tmp_embd = tf.expand_dims(tmp_embd,0)\n",
      "    attr_embd = tf.tile(tmp_embd,(batch_size,1,1))\n",
      "    attr_embd *= tf.math.sqrt(tf.cast(self.d_model, tf.float32))\n",
      "    \n",
      "    # adding embedding initial embedding\n",
      "    x = tf.expand_dims(x,2)\n",
      "    #x *= tf.math.sqrt(tf.cast(self.d_model, tf.float32))\n",
      "    #x += attr_embd\n",
      "    x = tf.concat([attr_embd, x], axis=2)\n",
      "    x = self.dropout(x, training=training)\n",
      "    \n",
      "    x *= (1-tf.transpose(tf.reduce_prod(mask, axis=-1), perm=[0, 2, 1]))\n",
      "#     print('x')\n",
      "#     print(x)\n",
      "\n",
      "    attn_weights = {}\n",
      "    for i in range(self.num_layers):\n",
      "      x, attn_weights[i] = self.enc_layers[i](x, training, mask)\n",
      "    \n",
      "    return x, attn_weights  # (batch_size, input_seq_len, d_model)\n",
      "\n",
      "This may be caused by multiline strings or comments not indented at the same level as the code.\n",
      "WARNING:tensorflow:Entity <bound method EncoderLayer.call of <XAenc.EncoderLayer object at 0x0000019D8E89FBA8>> could not be transformed and will be executed as-is. Please report this to the AutoGraph team. When filing the bug, set the verbosity to 10 (on Linux, `export AUTOGRAPH_VERBOSITY=10`) and attach the full output. Cause: Failed to parse source code of <bound method EncoderLayer.call of <XAenc.EncoderLayer object at 0x0000019D8E89FBA8>>, which Python reported as:\n",
      "  def call(self, x, training, mask):\n",
      "\n",
      "    attn_output, attn_weights = self.mha(x, x, x, mask)  # (batch_size, input_seq_len, d_model)\n",
      "    attn_output = self.dropout1(attn_output, training=training)\n",
      "    out1 = self.layernorm1(x + attn_output)  # (batch_size, input_seq_len, d_model)\n",
      "    out1 *= (1-tf.transpose(tf.reduce_prod(mask, axis=-1), perm=[0, 2, 1]))\n",
      "    \n",
      "    ffn_output = self.ffn(out1)  # (batch_size, input_seq_len, d_model)\n",
      "    ffn_output = self.dropout2(ffn_output, training=training)\n",
      "    out2 = self.layernorm2(out1 + ffn_output)  # (batch_size, input_seq_len, d_model)\n",
      "    out2 *= (1-tf.transpose(tf.reduce_prod(mask, axis=-1), perm=[0, 2, 1]))\n",
      "    \n",
      "#     print('out2')\n",
      "#     print(out2)\n",
      "    \n",
      "    return out2, attn_weights\n",
      "\n",
      "This may be caused by multiline strings or comments not indented at the same level as the code.\n",
      "WARNING: Entity <bound method EncoderLayer.call of <XAenc.EncoderLayer object at 0x0000019D8E89FBA8>> could not be transformed and will be executed as-is. Please report this to the AutoGraph team. When filing the bug, set the verbosity to 10 (on Linux, `export AUTOGRAPH_VERBOSITY=10`) and attach the full output. Cause: Failed to parse source code of <bound method EncoderLayer.call of <XAenc.EncoderLayer object at 0x0000019D8E89FBA8>>, which Python reported as:\n",
      "  def call(self, x, training, mask):\n",
      "\n",
      "    attn_output, attn_weights = self.mha(x, x, x, mask)  # (batch_size, input_seq_len, d_model)\n",
      "    attn_output = self.dropout1(attn_output, training=training)\n",
      "    out1 = self.layernorm1(x + attn_output)  # (batch_size, input_seq_len, d_model)\n",
      "    out1 *= (1-tf.transpose(tf.reduce_prod(mask, axis=-1), perm=[0, 2, 1]))\n",
      "    \n",
      "    ffn_output = self.ffn(out1)  # (batch_size, input_seq_len, d_model)\n",
      "    ffn_output = self.dropout2(ffn_output, training=training)\n",
      "    out2 = self.layernorm2(out1 + ffn_output)  # (batch_size, input_seq_len, d_model)\n",
      "    out2 *= (1-tf.transpose(tf.reduce_prod(mask, axis=-1), perm=[0, 2, 1]))\n",
      "    \n",
      "#     print('out2')\n",
      "#     print(out2)\n",
      "    \n",
      "    return out2, attn_weights\n",
      "\n",
      "This may be caused by multiline strings or comments not indented at the same level as the code.\n",
      "WARNING:tensorflow:Entity <bound method MultiHeadAttention.call of <XAenc.MultiHeadAttention object at 0x0000019D8E89FB38>> could not be transformed and will be executed as-is. Please report this to the AutoGraph team. When filing the bug, set the verbosity to 10 (on Linux, `export AUTOGRAPH_VERBOSITY=10`) and attach the full output. Cause: Failed to parse source code of <bound method MultiHeadAttention.call of <XAenc.MultiHeadAttention object at 0x0000019D8E89FB38>>, which Python reported as:\n",
      "  def call(self, v, k, q, mask):\n",
      "    batch_size = tf.shape(q)[0]\n",
      "    \n",
      "    q = self.wq(q)  # (batch_size, seq_len, d_model)\n",
      "    k = self.wk(k)  # (batch_size, seq_len, d_model)\n",
      "    v = self.wv(v)  # (batch_size, seq_len, d_model)\n",
      "    \n",
      "    q = self.split_heads(q, batch_size)  # (batch_size, num_heads, seq_len_q, depth)\n",
      "    k = self.split_heads(k, batch_size)  # (batch_size, num_heads, seq_len_k, depth)\n",
      "    v = self.split_heads(v, batch_size)  # (batch_size, num_heads, seq_len_v, depth)\n",
      "    \n",
      "    # scaled_attention.shape == (batch_size, num_heads, seq_len_q, depth)\n",
      "    # attention_weights.shape == (batch_size, num_heads, seq_len_q, seq_len_k)\n",
      "    scaled_attention, attention_weights = scaled_dot_product_attention(\n",
      "        q, k, v, mask)\n",
      "    \n",
      "    scaled_attention = tf.transpose(scaled_attention, perm=[0, 2, 1, 3])  # (batch_size, seq_len_q, num_heads, depth)\n",
      "\n",
      "    concat_attention = tf.reshape(scaled_attention, \n",
      "                                  (batch_size, -1, self.d_model))  # (batch_size, seq_len_q, d_model)\n",
      "\n",
      "#     print('concat_attention')\n",
      "#     print(concat_attention)    \n",
      "    \n",
      "    output = self.dense(concat_attention)  # (batch_size, seq_len_q, d_model)\n",
      "    \n",
      "#     print('output')\n",
      "#     print(output)     \n",
      "    \n",
      "    return output, attention_weights\n",
      "\n",
      "This may be caused by multiline strings or comments not indented at the same level as the code.\n",
      "WARNING: Entity <bound method MultiHeadAttention.call of <XAenc.MultiHeadAttention object at 0x0000019D8E89FB38>> could not be transformed and will be executed as-is. Please report this to the AutoGraph team. When filing the bug, set the verbosity to 10 (on Linux, `export AUTOGRAPH_VERBOSITY=10`) and attach the full output. Cause: Failed to parse source code of <bound method MultiHeadAttention.call of <XAenc.MultiHeadAttention object at 0x0000019D8E89FB38>>, which Python reported as:\n",
      "  def call(self, v, k, q, mask):\n",
      "    batch_size = tf.shape(q)[0]\n",
      "    \n",
      "    q = self.wq(q)  # (batch_size, seq_len, d_model)\n",
      "    k = self.wk(k)  # (batch_size, seq_len, d_model)\n",
      "    v = self.wv(v)  # (batch_size, seq_len, d_model)\n",
      "    \n",
      "    q = self.split_heads(q, batch_size)  # (batch_size, num_heads, seq_len_q, depth)\n",
      "    k = self.split_heads(k, batch_size)  # (batch_size, num_heads, seq_len_k, depth)\n",
      "    v = self.split_heads(v, batch_size)  # (batch_size, num_heads, seq_len_v, depth)\n",
      "    \n",
      "    # scaled_attention.shape == (batch_size, num_heads, seq_len_q, depth)\n",
      "    # attention_weights.shape == (batch_size, num_heads, seq_len_q, seq_len_k)\n",
      "    scaled_attention, attention_weights = scaled_dot_product_attention(\n",
      "        q, k, v, mask)\n",
      "    \n",
      "    scaled_attention = tf.transpose(scaled_attention, perm=[0, 2, 1, 3])  # (batch_size, seq_len_q, num_heads, depth)\n",
      "\n",
      "    concat_attention = tf.reshape(scaled_attention, \n",
      "                                  (batch_size, -1, self.d_model))  # (batch_size, seq_len_q, d_model)\n",
      "\n",
      "#     print('concat_attention')\n",
      "#     print(concat_attention)    \n",
      "    \n",
      "    output = self.dense(concat_attention)  # (batch_size, seq_len_q, d_model)\n",
      "    \n",
      "#     print('output')\n",
      "#     print(output)     \n",
      "    \n",
      "    return output, attention_weights\n",
      "\n",
      "This may be caused by multiline strings or comments not indented at the same level as the code.\n"
     ]
    },
    {
     "ename": "TypeError",
     "evalue": "You are attempting to use Python control flow in a layer that was not declared to be dynamic. Pass `dynamic=True` to the class constructor.\nEncountered error:\n\"\"\"\nin converted code:\n\n    D:\\workzone\\syncgoogledrive\\XAenc.py:491 call  *\n        y, y_logits, phi, final_embd, attn_weights = self.get_everything(inputs, training)\n    D:\\workzone\\syncgoogledrive\\XAenc.py:465 get_everything\n        if training:\n    C:\\Users\\mchowdh5\\AppData\\Local\\Continuum\\anaconda3\\envs\\base_tf200\\lib\\site-packages\\tensorflow_core\\python\\framework\\ops.py:765 __bool__\n        self._disallow_bool_casting()\n    C:\\Users\\mchowdh5\\AppData\\Local\\Continuum\\anaconda3\\envs\\base_tf200\\lib\\site-packages\\tensorflow_core\\python\\framework\\ops.py:534 _disallow_bool_casting\n        self._disallow_in_graph_mode(\"using a `tf.Tensor` as a Python `bool`\")\n    C:\\Users\\mchowdh5\\AppData\\Local\\Continuum\\anaconda3\\envs\\base_tf200\\lib\\site-packages\\tensorflow_core\\python\\framework\\ops.py:523 _disallow_in_graph_mode\n        \" this function with @tf.function.\".format(task))\n\n    OperatorNotAllowedInGraphError: using a `tf.Tensor` as a Python `bool` is not allowed in Graph execution. Use Eager execution or decorate this function with @tf.function.\n\n\"\"\"",
     "output_type": "error",
     "traceback": [
      "\u001b[1;31m---------------------------------------------------------------------------\u001b[0m",
      "\u001b[1;31mOperatorNotAllowedInGraphError\u001b[0m            Traceback (most recent call last)",
      "\u001b[1;32m~\\AppData\\Local\\Continuum\\anaconda3\\envs\\base_tf200\\lib\\site-packages\\tensorflow_core\\python\\keras\\engine\\base_layer.py\u001b[0m in \u001b[0;36m__call__\u001b[1;34m(self, inputs, *args, **kwargs)\u001b[0m\n\u001b[0;32m    841\u001b[0m                   \u001b[1;32mwith\u001b[0m \u001b[0mauto_control_deps\u001b[0m\u001b[1;33m.\u001b[0m\u001b[0mAutomaticControlDependencies\u001b[0m\u001b[1;33m(\u001b[0m\u001b[1;33m)\u001b[0m \u001b[1;32mas\u001b[0m \u001b[0macd\u001b[0m\u001b[1;33m:\u001b[0m\u001b[1;33m\u001b[0m\u001b[1;33m\u001b[0m\u001b[0m\n\u001b[1;32m--> 842\u001b[1;33m                     \u001b[0moutputs\u001b[0m \u001b[1;33m=\u001b[0m \u001b[0mcall_fn\u001b[0m\u001b[1;33m(\u001b[0m\u001b[0mcast_inputs\u001b[0m\u001b[1;33m,\u001b[0m \u001b[1;33m*\u001b[0m\u001b[0margs\u001b[0m\u001b[1;33m,\u001b[0m \u001b[1;33m**\u001b[0m\u001b[0mkwargs\u001b[0m\u001b[1;33m)\u001b[0m\u001b[1;33m\u001b[0m\u001b[1;33m\u001b[0m\u001b[0m\n\u001b[0m\u001b[0;32m    843\u001b[0m                     \u001b[1;31m# Wrap Tensors in `outputs` in `tf.identity` to avoid\u001b[0m\u001b[1;33m\u001b[0m\u001b[1;33m\u001b[0m\u001b[1;33m\u001b[0m\u001b[0m\n",
      "\u001b[1;32m~\\AppData\\Local\\Continuum\\anaconda3\\envs\\base_tf200\\lib\\site-packages\\tensorflow_core\\python\\autograph\\impl\\api.py\u001b[0m in \u001b[0;36mwrapper\u001b[1;34m(*args, **kwargs)\u001b[0m\n\u001b[0;32m    236\u001b[0m         \u001b[1;32mif\u001b[0m \u001b[0mhasattr\u001b[0m\u001b[1;33m(\u001b[0m\u001b[0me\u001b[0m\u001b[1;33m,\u001b[0m \u001b[1;34m'ag_error_metadata'\u001b[0m\u001b[1;33m)\u001b[0m\u001b[1;33m:\u001b[0m\u001b[1;33m\u001b[0m\u001b[1;33m\u001b[0m\u001b[0m\n\u001b[1;32m--> 237\u001b[1;33m           \u001b[1;32mraise\u001b[0m \u001b[0me\u001b[0m\u001b[1;33m.\u001b[0m\u001b[0mag_error_metadata\u001b[0m\u001b[1;33m.\u001b[0m\u001b[0mto_exception\u001b[0m\u001b[1;33m(\u001b[0m\u001b[0me\u001b[0m\u001b[1;33m)\u001b[0m\u001b[1;33m\u001b[0m\u001b[1;33m\u001b[0m\u001b[0m\n\u001b[0m\u001b[0;32m    238\u001b[0m         \u001b[1;32melse\u001b[0m\u001b[1;33m:\u001b[0m\u001b[1;33m\u001b[0m\u001b[1;33m\u001b[0m\u001b[0m\n",
      "\u001b[1;31mOperatorNotAllowedInGraphError\u001b[0m: in converted code:\n\n    D:\\workzone\\syncgoogledrive\\XAenc.py:491 call  *\n        y, y_logits, phi, final_embd, attn_weights = self.get_everything(inputs, training)\n    D:\\workzone\\syncgoogledrive\\XAenc.py:465 get_everything\n        if training:\n    C:\\Users\\mchowdh5\\AppData\\Local\\Continuum\\anaconda3\\envs\\base_tf200\\lib\\site-packages\\tensorflow_core\\python\\framework\\ops.py:765 __bool__\n        self._disallow_bool_casting()\n    C:\\Users\\mchowdh5\\AppData\\Local\\Continuum\\anaconda3\\envs\\base_tf200\\lib\\site-packages\\tensorflow_core\\python\\framework\\ops.py:534 _disallow_bool_casting\n        self._disallow_in_graph_mode(\"using a `tf.Tensor` as a Python `bool`\")\n    C:\\Users\\mchowdh5\\AppData\\Local\\Continuum\\anaconda3\\envs\\base_tf200\\lib\\site-packages\\tensorflow_core\\python\\framework\\ops.py:523 _disallow_in_graph_mode\n        \" this function with @tf.function.\".format(task))\n\n    OperatorNotAllowedInGraphError: using a `tf.Tensor` as a Python `bool` is not allowed in Graph execution. Use Eager execution or decorate this function with @tf.function.\n",
      "\nDuring handling of the above exception, another exception occurred:\n",
      "\u001b[1;31mTypeError\u001b[0m                                 Traceback (most recent call last)",
      "\u001b[1;32m<ipython-input-10-5f156653f5c7>\u001b[0m in \u001b[0;36m<module>\u001b[1;34m\u001b[0m\n\u001b[0;32m      4\u001b[0m              \u001b[0msteps_per_epoch\u001b[0m\u001b[1;33m=\u001b[0m\u001b[0mPARAMS\u001b[0m\u001b[1;33m[\u001b[0m\u001b[1;34m'train_data'\u001b[0m\u001b[1;33m]\u001b[0m\u001b[1;33m//\u001b[0m\u001b[0mPARAMS\u001b[0m\u001b[1;33m[\u001b[0m\u001b[1;34m'batch_size'\u001b[0m\u001b[1;33m]\u001b[0m\u001b[1;33m,\u001b[0m\u001b[1;33m\u001b[0m\u001b[1;33m\u001b[0m\u001b[0m\n\u001b[0;32m      5\u001b[0m              \u001b[0mcallbacks\u001b[0m\u001b[1;33m=\u001b[0m\u001b[1;33m[\u001b[0m\u001b[0mmsecb\u001b[0m\u001b[1;33m]\u001b[0m\u001b[1;33m,\u001b[0m\u001b[1;33m\u001b[0m\u001b[1;33m\u001b[0m\u001b[0m\n\u001b[1;32m----> 6\u001b[1;33m              verbose=0)\n\u001b[0m\u001b[0;32m      7\u001b[0m \u001b[1;33m\u001b[0m\u001b[0m\n\u001b[0;32m      8\u001b[0m \u001b[0mmy_model\u001b[0m\u001b[1;33m.\u001b[0m\u001b[0msummary\u001b[0m\u001b[1;33m(\u001b[0m\u001b[1;33m)\u001b[0m\u001b[1;33m\u001b[0m\u001b[1;33m\u001b[0m\u001b[0m\n",
      "\u001b[1;32m~\\AppData\\Local\\Continuum\\anaconda3\\envs\\base_tf200\\lib\\site-packages\\tensorflow_core\\python\\keras\\engine\\training.py\u001b[0m in \u001b[0;36mfit\u001b[1;34m(self, x, y, batch_size, epochs, verbose, callbacks, validation_split, validation_data, shuffle, class_weight, sample_weight, initial_epoch, steps_per_epoch, validation_steps, validation_freq, max_queue_size, workers, use_multiprocessing, **kwargs)\u001b[0m\n\u001b[0;32m    726\u001b[0m         \u001b[0mmax_queue_size\u001b[0m\u001b[1;33m=\u001b[0m\u001b[0mmax_queue_size\u001b[0m\u001b[1;33m,\u001b[0m\u001b[1;33m\u001b[0m\u001b[1;33m\u001b[0m\u001b[0m\n\u001b[0;32m    727\u001b[0m         \u001b[0mworkers\u001b[0m\u001b[1;33m=\u001b[0m\u001b[0mworkers\u001b[0m\u001b[1;33m,\u001b[0m\u001b[1;33m\u001b[0m\u001b[1;33m\u001b[0m\u001b[0m\n\u001b[1;32m--> 728\u001b[1;33m         use_multiprocessing=use_multiprocessing)\n\u001b[0m\u001b[0;32m    729\u001b[0m \u001b[1;33m\u001b[0m\u001b[0m\n\u001b[0;32m    730\u001b[0m   def evaluate(self,\n",
      "\u001b[1;32m~\\AppData\\Local\\Continuum\\anaconda3\\envs\\base_tf200\\lib\\site-packages\\tensorflow_core\\python\\keras\\engine\\training_v2.py\u001b[0m in \u001b[0;36mfit\u001b[1;34m(self, model, x, y, batch_size, epochs, verbose, callbacks, validation_split, validation_data, shuffle, class_weight, sample_weight, initial_epoch, steps_per_epoch, validation_steps, validation_freq, **kwargs)\u001b[0m\n\u001b[0;32m    222\u001b[0m           \u001b[0mvalidation_data\u001b[0m\u001b[1;33m=\u001b[0m\u001b[0mvalidation_data\u001b[0m\u001b[1;33m,\u001b[0m\u001b[1;33m\u001b[0m\u001b[1;33m\u001b[0m\u001b[0m\n\u001b[0;32m    223\u001b[0m           \u001b[0mvalidation_steps\u001b[0m\u001b[1;33m=\u001b[0m\u001b[0mvalidation_steps\u001b[0m\u001b[1;33m,\u001b[0m\u001b[1;33m\u001b[0m\u001b[1;33m\u001b[0m\u001b[0m\n\u001b[1;32m--> 224\u001b[1;33m           distribution_strategy=strategy)\n\u001b[0m\u001b[0;32m    225\u001b[0m \u001b[1;33m\u001b[0m\u001b[0m\n\u001b[0;32m    226\u001b[0m       \u001b[0mtotal_samples\u001b[0m \u001b[1;33m=\u001b[0m \u001b[0m_get_total_number_of_samples\u001b[0m\u001b[1;33m(\u001b[0m\u001b[0mtraining_data_adapter\u001b[0m\u001b[1;33m)\u001b[0m\u001b[1;33m\u001b[0m\u001b[1;33m\u001b[0m\u001b[0m\n",
      "\u001b[1;32m~\\AppData\\Local\\Continuum\\anaconda3\\envs\\base_tf200\\lib\\site-packages\\tensorflow_core\\python\\keras\\engine\\training_v2.py\u001b[0m in \u001b[0;36m_process_training_inputs\u001b[1;34m(model, x, y, batch_size, epochs, sample_weights, class_weights, steps_per_epoch, validation_split, validation_data, validation_steps, shuffle, distribution_strategy, max_queue_size, workers, use_multiprocessing)\u001b[0m\n\u001b[0;32m    545\u001b[0m         \u001b[0mmax_queue_size\u001b[0m\u001b[1;33m=\u001b[0m\u001b[0mmax_queue_size\u001b[0m\u001b[1;33m,\u001b[0m\u001b[1;33m\u001b[0m\u001b[1;33m\u001b[0m\u001b[0m\n\u001b[0;32m    546\u001b[0m         \u001b[0mworkers\u001b[0m\u001b[1;33m=\u001b[0m\u001b[0mworkers\u001b[0m\u001b[1;33m,\u001b[0m\u001b[1;33m\u001b[0m\u001b[1;33m\u001b[0m\u001b[0m\n\u001b[1;32m--> 547\u001b[1;33m         use_multiprocessing=use_multiprocessing)\n\u001b[0m\u001b[0;32m    548\u001b[0m     \u001b[0mval_adapter\u001b[0m \u001b[1;33m=\u001b[0m \u001b[1;32mNone\u001b[0m\u001b[1;33m\u001b[0m\u001b[1;33m\u001b[0m\u001b[0m\n\u001b[0;32m    549\u001b[0m     \u001b[1;32mif\u001b[0m \u001b[0mvalidation_data\u001b[0m\u001b[1;33m:\u001b[0m\u001b[1;33m\u001b[0m\u001b[1;33m\u001b[0m\u001b[0m\n",
      "\u001b[1;32m~\\AppData\\Local\\Continuum\\anaconda3\\envs\\base_tf200\\lib\\site-packages\\tensorflow_core\\python\\keras\\engine\\training_v2.py\u001b[0m in \u001b[0;36m_process_inputs\u001b[1;34m(model, x, y, batch_size, epochs, sample_weights, class_weights, shuffle, steps, distribution_strategy, max_queue_size, workers, use_multiprocessing)\u001b[0m\n\u001b[0;32m    592\u001b[0m         \u001b[0mbatch_size\u001b[0m\u001b[1;33m=\u001b[0m\u001b[0mbatch_size\u001b[0m\u001b[1;33m,\u001b[0m\u001b[1;33m\u001b[0m\u001b[1;33m\u001b[0m\u001b[0m\n\u001b[0;32m    593\u001b[0m         \u001b[0mcheck_steps\u001b[0m\u001b[1;33m=\u001b[0m\u001b[1;32mFalse\u001b[0m\u001b[1;33m,\u001b[0m\u001b[1;33m\u001b[0m\u001b[1;33m\u001b[0m\u001b[0m\n\u001b[1;32m--> 594\u001b[1;33m         steps=steps)\n\u001b[0m\u001b[0;32m    595\u001b[0m   adapter = adapter_cls(\n\u001b[0;32m    596\u001b[0m       \u001b[0mx\u001b[0m\u001b[1;33m,\u001b[0m\u001b[1;33m\u001b[0m\u001b[1;33m\u001b[0m\u001b[0m\n",
      "\u001b[1;32m~\\AppData\\Local\\Continuum\\anaconda3\\envs\\base_tf200\\lib\\site-packages\\tensorflow_core\\python\\keras\\engine\\training.py\u001b[0m in \u001b[0;36m_standardize_user_data\u001b[1;34m(self, x, y, sample_weight, class_weight, batch_size, check_steps, steps_name, steps, validation_split, shuffle, extract_tensors_from_dataset)\u001b[0m\n\u001b[0;32m   2417\u001b[0m     \u001b[1;31m# First, we build the model on the fly if necessary.\u001b[0m\u001b[1;33m\u001b[0m\u001b[1;33m\u001b[0m\u001b[1;33m\u001b[0m\u001b[0m\n\u001b[0;32m   2418\u001b[0m     \u001b[1;32mif\u001b[0m \u001b[1;32mnot\u001b[0m \u001b[0mself\u001b[0m\u001b[1;33m.\u001b[0m\u001b[0minputs\u001b[0m\u001b[1;33m:\u001b[0m\u001b[1;33m\u001b[0m\u001b[1;33m\u001b[0m\u001b[0m\n\u001b[1;32m-> 2419\u001b[1;33m       \u001b[0mall_inputs\u001b[0m\u001b[1;33m,\u001b[0m \u001b[0my_input\u001b[0m\u001b[1;33m,\u001b[0m \u001b[0mdict_inputs\u001b[0m \u001b[1;33m=\u001b[0m \u001b[0mself\u001b[0m\u001b[1;33m.\u001b[0m\u001b[0m_build_model_with_inputs\u001b[0m\u001b[1;33m(\u001b[0m\u001b[0mx\u001b[0m\u001b[1;33m,\u001b[0m \u001b[0my\u001b[0m\u001b[1;33m)\u001b[0m\u001b[1;33m\u001b[0m\u001b[1;33m\u001b[0m\u001b[0m\n\u001b[0m\u001b[0;32m   2420\u001b[0m       \u001b[0mis_build_called\u001b[0m \u001b[1;33m=\u001b[0m \u001b[1;32mTrue\u001b[0m\u001b[1;33m\u001b[0m\u001b[1;33m\u001b[0m\u001b[0m\n\u001b[0;32m   2421\u001b[0m     \u001b[1;32melse\u001b[0m\u001b[1;33m:\u001b[0m\u001b[1;33m\u001b[0m\u001b[1;33m\u001b[0m\u001b[0m\n",
      "\u001b[1;32m~\\AppData\\Local\\Continuum\\anaconda3\\envs\\base_tf200\\lib\\site-packages\\tensorflow_core\\python\\keras\\engine\\training.py\u001b[0m in \u001b[0;36m_build_model_with_inputs\u001b[1;34m(self, inputs, targets)\u001b[0m\n\u001b[0;32m   2620\u001b[0m     \u001b[1;32melse\u001b[0m\u001b[1;33m:\u001b[0m\u001b[1;33m\u001b[0m\u001b[1;33m\u001b[0m\u001b[0m\n\u001b[0;32m   2621\u001b[0m       \u001b[0mcast_inputs\u001b[0m \u001b[1;33m=\u001b[0m \u001b[0minputs\u001b[0m\u001b[1;33m\u001b[0m\u001b[1;33m\u001b[0m\u001b[0m\n\u001b[1;32m-> 2622\u001b[1;33m     \u001b[0mself\u001b[0m\u001b[1;33m.\u001b[0m\u001b[0m_set_inputs\u001b[0m\u001b[1;33m(\u001b[0m\u001b[0mcast_inputs\u001b[0m\u001b[1;33m)\u001b[0m\u001b[1;33m\u001b[0m\u001b[1;33m\u001b[0m\u001b[0m\n\u001b[0m\u001b[0;32m   2623\u001b[0m     \u001b[1;32mreturn\u001b[0m \u001b[0mprocessed_inputs\u001b[0m\u001b[1;33m,\u001b[0m \u001b[0mtargets\u001b[0m\u001b[1;33m,\u001b[0m \u001b[0mis_dict_inputs\u001b[0m\u001b[1;33m\u001b[0m\u001b[1;33m\u001b[0m\u001b[0m\n\u001b[0;32m   2624\u001b[0m \u001b[1;33m\u001b[0m\u001b[0m\n",
      "\u001b[1;32m~\\AppData\\Local\\Continuum\\anaconda3\\envs\\base_tf200\\lib\\site-packages\\tensorflow_core\\python\\keras\\engine\\training.py\u001b[0m in \u001b[0;36m_set_inputs\u001b[1;34m(self, inputs, outputs, training)\u001b[0m\n\u001b[0;32m   2707\u001b[0m           \u001b[0mkwargs\u001b[0m\u001b[1;33m[\u001b[0m\u001b[1;34m'training'\u001b[0m\u001b[1;33m]\u001b[0m \u001b[1;33m=\u001b[0m \u001b[0mtraining\u001b[0m\u001b[1;33m\u001b[0m\u001b[1;33m\u001b[0m\u001b[0m\n\u001b[0;32m   2708\u001b[0m       \u001b[1;32mtry\u001b[0m\u001b[1;33m:\u001b[0m\u001b[1;33m\u001b[0m\u001b[1;33m\u001b[0m\u001b[0m\n\u001b[1;32m-> 2709\u001b[1;33m         \u001b[0moutputs\u001b[0m \u001b[1;33m=\u001b[0m \u001b[0mself\u001b[0m\u001b[1;33m(\u001b[0m\u001b[0minputs\u001b[0m\u001b[1;33m,\u001b[0m \u001b[1;33m**\u001b[0m\u001b[0mkwargs\u001b[0m\u001b[1;33m)\u001b[0m\u001b[1;33m\u001b[0m\u001b[1;33m\u001b[0m\u001b[0m\n\u001b[0m\u001b[0;32m   2710\u001b[0m       \u001b[1;32mexcept\u001b[0m \u001b[0mNotImplementedError\u001b[0m\u001b[1;33m:\u001b[0m\u001b[1;33m\u001b[0m\u001b[1;33m\u001b[0m\u001b[0m\n\u001b[0;32m   2711\u001b[0m         \u001b[1;31m# This Model or a submodel is dynamic and hasn't overridden\u001b[0m\u001b[1;33m\u001b[0m\u001b[1;33m\u001b[0m\u001b[1;33m\u001b[0m\u001b[0m\n",
      "\u001b[1;32m~\\AppData\\Local\\Continuum\\anaconda3\\envs\\base_tf200\\lib\\site-packages\\tensorflow_core\\python\\keras\\engine\\base_layer.py\u001b[0m in \u001b[0;36m__call__\u001b[1;34m(self, inputs, *args, **kwargs)\u001b[0m\n\u001b[0;32m    852\u001b[0m                               \u001b[1;34m'dynamic. Pass `dynamic=True` to the class '\u001b[0m\u001b[1;33m\u001b[0m\u001b[1;33m\u001b[0m\u001b[0m\n\u001b[0;32m    853\u001b[0m                               \u001b[1;34m'constructor.\\nEncountered error:\\n\"\"\"\\n'\u001b[0m \u001b[1;33m+\u001b[0m\u001b[1;33m\u001b[0m\u001b[1;33m\u001b[0m\u001b[0m\n\u001b[1;32m--> 854\u001b[1;33m                               str(e) + '\\n\"\"\"')\n\u001b[0m\u001b[0;32m    855\u001b[0m           \u001b[1;32melse\u001b[0m\u001b[1;33m:\u001b[0m\u001b[1;33m\u001b[0m\u001b[1;33m\u001b[0m\u001b[0m\n\u001b[0;32m    856\u001b[0m             \u001b[1;31m# We will use static shape inference to return symbolic tensors\u001b[0m\u001b[1;33m\u001b[0m\u001b[1;33m\u001b[0m\u001b[1;33m\u001b[0m\u001b[0m\n",
      "\u001b[1;31mTypeError\u001b[0m: You are attempting to use Python control flow in a layer that was not declared to be dynamic. Pass `dynamic=True` to the class constructor.\nEncountered error:\n\"\"\"\nin converted code:\n\n    D:\\workzone\\syncgoogledrive\\XAenc.py:491 call  *\n        y, y_logits, phi, final_embd, attn_weights = self.get_everything(inputs, training)\n    D:\\workzone\\syncgoogledrive\\XAenc.py:465 get_everything\n        if training:\n    C:\\Users\\mchowdh5\\AppData\\Local\\Continuum\\anaconda3\\envs\\base_tf200\\lib\\site-packages\\tensorflow_core\\python\\framework\\ops.py:765 __bool__\n        self._disallow_bool_casting()\n    C:\\Users\\mchowdh5\\AppData\\Local\\Continuum\\anaconda3\\envs\\base_tf200\\lib\\site-packages\\tensorflow_core\\python\\framework\\ops.py:534 _disallow_bool_casting\n        self._disallow_in_graph_mode(\"using a `tf.Tensor` as a Python `bool`\")\n    C:\\Users\\mchowdh5\\AppData\\Local\\Continuum\\anaconda3\\envs\\base_tf200\\lib\\site-packages\\tensorflow_core\\python\\framework\\ops.py:523 _disallow_in_graph_mode\n        \" this function with @tf.function.\".format(task))\n\n    OperatorNotAllowedInGraphError: using a `tf.Tensor` as a Python `bool` is not allowed in Graph execution. Use Eager execution or decorate this function with @tf.function.\n\n\"\"\""
     ]
    }
   ],
   "source": [
    "# my_model.fit(x_train_scaled, y_train, epochs=PARAMS['no_epochs'],\n",
    "#             callbacks=[msecb], verbose=0)\n",
    "my_model.fit(ds_train_scaled, epochs=PARAMS['no_epochs'], \n",
    "             steps_per_epoch=PARAMS['train_data']//PARAMS['batch_size'], \n",
    "             callbacks=[msecb],\n",
    "             verbose=0)\n",
    "\n",
    "my_model.summary()"
   ]
  },
  {
   "cell_type": "code",
   "execution_count": 7,
   "metadata": {},
   "outputs": [
    {
     "name": "stdout",
     "output_type": "stream",
     "text": [
      "1000/1000 - 1s - loss: 0.0798\n"
     ]
    },
    {
     "data": {
      "text/plain": [
       "0.07983512227237224"
      ]
     },
     "execution_count": 7,
     "metadata": {},
     "output_type": "execute_result"
    }
   ],
   "source": [
    "results = my_model.evaluate(x_train_scaled, y_train, verbose=2)\n",
    "results"
   ]
  },
  {
   "cell_type": "code",
   "execution_count": 8,
   "metadata": {},
   "outputs": [
    {
     "name": "stdout",
     "output_type": "stream",
     "text": [
      "1000/1000 - 0s - loss: 0.0990\n"
     ]
    },
    {
     "data": {
      "text/plain": [
       "0.09903474128246308"
      ]
     },
     "execution_count": 8,
     "metadata": {},
     "output_type": "execute_result"
    }
   ],
   "source": [
    "results = my_model.evaluate(x_test_scaled, y_test, verbose=2)\n",
    "results"
   ]
  },
  {
   "cell_type": "code",
   "execution_count": 9,
   "metadata": {},
   "outputs": [
    {
     "name": "stdout",
     "output_type": "stream",
     "text": [
      "WARNING:tensorflow:Layer encoder is casting an input tensor from dtype float64 to the layer's dtype of float32, which is new behavior in TensorFlow 2.  The layer has dtype float32 because it's dtype defaults to floatx.\n",
      "\n",
      "If you intended to run this layer in float32, you can safely ignore this warning. If in doubt, this warning is likely only an issue if you are porting a TensorFlow 1.X model to TensorFlow 2.\n",
      "\n",
      "To change all layers to have dtype float64 by default, call `tf.keras.backend.set_floatx('float64')`. To change just this layer, pass dtype='float64' to the layer constructor. If you are the author of this layer, you can disable autocasting by passing autocast=False to the base Layer constructor.\n",
      "\n",
      "(1000, 2)\n",
      "(1000, 5, 2)\n",
      "(1000, 5, 4)\n"
     ]
    }
   ],
   "source": [
    "if PARAMS['type_problem'] == 'classification':\n",
    "    y, y_logits, phi, final_embd, attn_weights = my_model.get_everything(x_test_scaled, training=False)\n",
    "else:\n",
    "    y, phi, final_embd, attn_weights = my_model.get_everything(x_test_scaled, training=False)\n",
    "    \n",
    "print(y.shape)\n",
    "print(phi.shape)\n",
    "print(final_embd.shape)\n",
    "    \n",
    "my_shap = tf.squeeze(phi).numpy()"
   ]
  },
  {
   "cell_type": "code",
   "execution_count": 10,
   "metadata": {},
   "outputs": [
    {
     "name": "stdout",
     "output_type": "stream",
     "text": [
      "Accuracy =  0.957\n"
     ]
    }
   ],
   "source": [
    "def get_R2(y_approx):\n",
    "\n",
    "    return 1-np.std(y_test-y_approx)**2/np.std(y_test)**2\n",
    "\n",
    "if PARAMS['type_problem'] == 'classification':\n",
    "    print( 'Accuracy = ', np.sum(np.argmax(y, axis=1) == y_test)/1000)\n",
    "else:\n",
    "    y = tf.squeeze(y)\n",
    "    #bias = np.mean(y - np.sum(phi, axis=1))\n",
    "\n",
    "    print('R2 all = %2d' % (100*get_R2( y )))\n",
    "    print('R2 rel = %2d' % (100*get_R2( np.sum(phi[:,:2], axis=1).flatten() )))\n",
    "    print('R2 irr = %2d' % (100*get_R2( np.sum(phi[:,2:], axis=1).flatten() )))\n",
    "    print('model bias  = ', my_model.bias.numpy()[0][0])\n",
    "    print('mean y_test = ', np.mean(y_test))\n",
    "    plt.scatter(y_test, y)"
   ]
  },
  {
   "cell_type": "code",
   "execution_count": 11,
   "metadata": {},
   "outputs": [],
   "source": [
    "# x_test_tst = x_test_scaled[:2,:].copy()\n",
    "# x_test_tst[0,0] = np.nan\n",
    "# x_test_tst[1,2] = np.nan\n",
    "# print(x_test_tst)\n",
    "\n",
    "# y_tst, phi_tst, final_embd_tst, attn_weights_tst = my_model.get_everything(x_test_tst, training=False)\n",
    "\n",
    "# print(y_tst.shape)\n",
    "# print(phi_tst)\n",
    "# print(final_embd_tst)"
   ]
  },
  {
   "cell_type": "code",
   "execution_count": 12,
   "metadata": {},
   "outputs": [],
   "source": [
    "# inputs_nan = tf.math.is_nan(x_test_tst)\n",
    "# inputs = tf.where(inputs_nan, tf.zeros_like(x_test_tst), x_test_tst)\n",
    "# #mask = tf.cast(inputs_nan, tf.float32)[:, tf.newaxis, tf.newaxis, :]\n",
    "# mask = tf.expand_dims(inputs_nan,2) | tf.expand_dims(inputs_nan,1) \n",
    "# mask = tf.cast(mask, tf.float32)[:, tf.newaxis, :, :]\n",
    "# mask"
   ]
  },
  {
   "cell_type": "code",
   "execution_count": 13,
   "metadata": {},
   "outputs": [
    {
     "data": {
      "text/plain": [
       "Text(0, 0.5, 'Contribution')"
      ]
     },
     "execution_count": 13,
     "metadata": {},
     "output_type": "execute_result"
    },
    {
     "data": {
      "image/png": "[encoded data removed]",
      "text/plain": [
       "<Figure size 432x288 with 1 Axes>"
      ]
     },
     "metadata": {
      "needs_background": "light"
     },
     "output_type": "display_data"
    }
   ],
   "source": [
    "if PARAMS['type_problem'] == 'regression':\n",
    "    plt.bar(range(my_shap.shape[1]), np.abs(my_shap).mean(axis=0))\n",
    "else:\n",
    "    plt.bar(range(my_shap.shape[1]), np.abs(my_shap[:,:,0]).mean(axis=0))\n",
    "    \n",
    "plt.xticks(range(my_shap.shape[1]))\n",
    "plt.xlabel('Feature')\n",
    "plt.ylabel('Contribution')"
   ]
  },
  {
   "cell_type": "code",
   "execution_count": 14,
   "metadata": {},
   "outputs": [
    {
     "data": {
      "image/png": "[encoded data removed]",
      "text/plain": [
       "<Figure size 576x252 with 2 Axes>"
      ]
     },
     "metadata": {
      "needs_background": "light"
     },
     "output_type": "display_data"
    }
   ],
   "source": [
    "import shap\n",
    "if PARAMS['type_problem'] == 'regression':\n",
    "    shap.summary_plot(my_shap, x_test_scaled)\n",
    "else:    \n",
    "    shap.summary_plot(my_shap[:,:,0], x_test_scaled)"
   ]
  },
  {
   "cell_type": "code",
   "execution_count": 15,
   "metadata": {},
   "outputs": [],
   "source": [
    "def get_key(lst, x_test_scaled):\n",
    "    tmp = '0'*x_test_scaled.shape[1]\n",
    "    mylist = list(tmp)\n",
    "    for i in lst:\n",
    "        mylist[i-1] = '1'\n",
    "    tmp = ''.join(mylist)\n",
    "    return tmp\n",
    "\n",
    "def exact_shap(my_model, x_test_scaled):\n",
    "    \n",
    "    from itertools import permutations \n",
    "    perm_lists = list(permutations(range(1, x_test_scaled.shape[1]+1))) \n",
    "    #print(perm_lists)\n",
    "    \n",
    "    all_results = {}\n",
    "    shap_val = np.zeros(x_test_scaled.shape)\n",
    "\n",
    "    for l in perm_lists:\n",
    "        #print(l)\n",
    "\n",
    "        for i in range(x_test_scaled.shape[1]):\n",
    "            ind = l.index(i+1)\n",
    "            lst = l[:ind+1]\n",
    "            perm_key = get_key(lst, x_test_scaled)        \n",
    "            if perm_key in all_results.keys():\n",
    "                result_with = all_results[perm_key]\n",
    "            else:\n",
    "\n",
    "                null_lst = l[ind+1:]\n",
    "                #print('null: ', null_lst)\n",
    "                x_tst_adj = x_test_scaled.copy()\n",
    "                sel = np.array(null_lst)-1\n",
    "                if sel.shape[0] > 0:\n",
    "                    x_tst_adj[:,sel] = np.nan\n",
    "                    \n",
    "                if PARAMS['type_problem'] == 'classification':\n",
    "                    y, y_logits, phi, final_embd, attn_weights = my_model.get_everything(x_tst_adj, training=False)\n",
    "                    result_with = y_logits[:,0]\n",
    "                else:\n",
    "                    result_with = my_model.predict(x_tst_adj)\n",
    "                all_results[perm_key] = result_with\n",
    "                #print(get_key(lst, x_test_scaled))\n",
    "\n",
    "\n",
    "            lst = l[:ind]\n",
    "            perm_key = get_key(lst, x_test_scaled)\n",
    "            if perm_key in all_results.keys():\n",
    "                result_without = all_results[perm_key]\n",
    "            else:\n",
    "\n",
    "                null_lst = l[ind:]\n",
    "                #print('null: ', null_lst)\n",
    "                x_tst_adj = x_test_scaled.copy()\n",
    "                sel = np.array(null_lst)-1\n",
    "                if sel.shape[0] > 0:\n",
    "                    x_tst_adj[:,sel] = np.nan\n",
    "                    \n",
    "                if PARAMS['type_problem'] == 'classification':\n",
    "                    y, y_logits, phi, final_embd, attn_weights = my_model.get_everything(x_tst_adj, training=False)\n",
    "                    result_without = y_logits[:,0]\n",
    "                else:\n",
    "                    result_without = my_model.predict(x_tst_adj)\n",
    "                all_results[perm_key] = result_without\n",
    "                #print(get_key(lst, x_test_scaled))\n",
    "\n",
    "            if PARAMS['type_problem'] == 'classification':\n",
    "                shap_val[:,i] += result_with - result_without\n",
    "            else:\n",
    "                shap_val[:,[i]] += result_with - result_without\n",
    "\n",
    "    shap_val /= len(perm_lists)    \n",
    "    \n",
    "    return shap_val"
   ]
  },
  {
   "cell_type": "code",
   "execution_count": 16,
   "metadata": {},
   "outputs": [
    {
     "data": {
      "text/plain": [
       "Text(0, 0.5, 'Contribution')"
      ]
     },
     "execution_count": 16,
     "metadata": {},
     "output_type": "execute_result"
    },
    {
     "data": {
      "image/png": "[encoded data removed]",
      "text/plain": [
       "<Figure size 432x288 with 1 Axes>"
      ]
     },
     "metadata": {
      "needs_background": "light"
     },
     "output_type": "display_data"
    }
   ],
   "source": [
    "shap_val = exact_shap(my_model, x_test_scaled)\n",
    "\n",
    "plt.bar(range(shap_val.shape[1]), np.abs(shap_val).mean(axis=0))\n",
    "plt.xticks(range(shap_val.shape[1]))\n",
    "plt.xlabel('Feature')\n",
    "plt.ylabel('Contribution')"
   ]
  },
  {
   "cell_type": "code",
   "execution_count": 17,
   "metadata": {},
   "outputs": [
    {
     "data": {
      "image/png": "[encoded data removed]",
      "text/plain": [
       "<Figure size 576x252 with 2 Axes>"
      ]
     },
     "metadata": {
      "needs_background": "light"
     },
     "output_type": "display_data"
    }
   ],
   "source": [
    "import shap\n",
    "shap.summary_plot(shap_val, x_test_scaled)"
   ]
  },
  {
   "cell_type": "code",
   "execution_count": 18,
   "metadata": {},
   "outputs": [
    {
     "data": {
      "text/plain": [
       "Text(0.5, 1.0, 'bmi - contributions (approx vs exact)')"
      ]
     },
     "execution_count": 18,
     "metadata": {},
     "output_type": "execute_result"
    },
    {
     "data": {
      "image/png": "[encoded data removed]",
      "text/plain": [
       "<Figure size 1080x360 with 2 Axes>"
      ]
     },
     "metadata": {
      "needs_background": "light"
     },
     "output_type": "display_data"
    }
   ],
   "source": [
    "plt.figure(figsize=(15,5))\n",
    "plt.subplot(1,2,1)\n",
    "if PARAMS['type_problem'] == 'classification':\n",
    "    plt.scatter(shap_val[:,0], my_shap[:,0,0])\n",
    "else:\n",
    "    plt.scatter(shap_val[:,0], my_shap[:,0])\n",
    "plt.plot((shap_val[:,0].min(),shap_val[:,0].max()), \n",
    "         (shap_val[:,0].min(),shap_val[:,0].max()), 'r')\n",
    "plt.title('age - contributions (approx vs exact)')\n",
    "\n",
    "plt.subplot(1,2,2)\n",
    "if PARAMS['type_problem'] == 'classification':\n",
    "    plt.scatter(shap_val[:,1], my_shap[:,1,0])\n",
    "else:\n",
    "    plt.scatter(shap_val[:,1], my_shap[:,1])\n",
    "plt.plot((shap_val[:,1].min(),shap_val[:,1].max()), \n",
    "         (shap_val[:,1].min(),shap_val[:,1].max()), 'r')\n",
    "plt.title('bmi - contributions (approx vs exact)')"
   ]
  },
  {
   "cell_type": "code",
   "execution_count": 19,
   "metadata": {},
   "outputs": [
    {
     "data": {
      "text/plain": [
       "<matplotlib.axes._subplots.AxesSubplot at 0x7fbfc4493a10>"
      ]
     },
     "execution_count": 19,
     "metadata": {},
     "output_type": "execute_result"
    },
    {
     "data": {
      "image/png": "[encoded data removed]",
      "text/plain": [
       "<Figure size 432x288 with 2 Axes>"
      ]
     },
     "metadata": {
      "needs_background": "light"
     },
     "output_type": "display_data"
    }
   ],
   "source": [
    "innerProd = tf.matmul( final_embd, tf.transpose(final_embd, perm=(0,2,1)) )\n",
    "avgAbsInnerProd = tf.reduce_mean(innerProd, axis=0 )\n",
    "sns.heatmap(avgAbsInnerProd, cmap='RdBu')"
   ]
  },
  {
   "cell_type": "code",
   "execution_count": 20,
   "metadata": {},
   "outputs": [
    {
     "data": {
      "text/plain": [
       "<matplotlib.axes._subplots.AxesSubplot at 0x7fbfc4388990>"
      ]
     },
     "execution_count": 20,
     "metadata": {},
     "output_type": "execute_result"
    },
    {
     "data": {
      "image/png": "[encoded data removed]",
      "text/plain": [
       "<Figure size 432x288 with 2 Axes>"
      ]
     },
     "metadata": {
      "needs_background": "light"
     },
     "output_type": "display_data"
    }
   ],
   "source": [
    "sM = tf.expand_dims( tf.sqrt(tf.reduce_sum(final_embd*final_embd, axis=2)), axis=2)\n",
    "norm = tf.matmul(sM, tf.transpose(sM, perm=(0,2,1)))\n",
    "simMat = tf.reduce_mean( innerProd/norm, axis=0 )\n",
    "sns.heatmap(simMat, cmap='RdBu', vmin=-1, vmax=1)"
   ]
  },
  {
   "cell_type": "code",
   "execution_count": 21,
   "metadata": {},
   "outputs": [],
   "source": [
    "# M = final_embd[1,:,:]\n",
    "# sns.heatmap(tf.abs(tf.matmul(M, tf.transpose(M))), cmap='Greys')"
   ]
  },
  {
   "cell_type": "code",
   "execution_count": 22,
   "metadata": {},
   "outputs": [],
   "source": [
    "# sM = tf.reshape(tf.sqrt(tf.reduce_sum(M*M, axis=1)),[1,-1])\n",
    "# sns.heatmap(tf.matmul(tf.transpose(sM),sM), cmap='Greys')\n",
    "# sM.shape"
   ]
  },
  {
   "cell_type": "code",
   "execution_count": 23,
   "metadata": {},
   "outputs": [],
   "source": [
    "# simM = tf.matmul(M, tf.transpose(M))/tf.matmul(tf.transpose(sM),sM)\n",
    "# sns.heatmap(simM, cmap='Greys')"
   ]
  },
  {
   "cell_type": "code",
   "execution_count": 24,
   "metadata": {},
   "outputs": [
    {
     "data": {
      "image/png": "[encoded data removed]",
      "text/plain": [
       "<Figure size 432x720 with 2 Axes>"
      ]
     },
     "metadata": {
      "needs_background": "light"
     },
     "output_type": "display_data"
    }
   ],
   "source": [
    "plt.figure(figsize=(6,10))\n",
    "for i in range(PARAMS['num_layers']):\n",
    "    plt.subplot(PARAMS['num_layers']+1,1,i+1)\n",
    "    sns.heatmap(tf.reduce_mean(tf.squeeze(attn_weights[i]),axis=0), cmap='Greys')"
   ]
  },
  {
   "cell_type": "code",
   "execution_count": 25,
   "metadata": {},
   "outputs": [
    {
     "data": {
      "text/plain": [
       "<matplotlib.axes._subplots.AxesSubplot at 0x7fbfc4272310>"
      ]
     },
     "execution_count": 25,
     "metadata": {},
     "output_type": "execute_result"
    },
    {
     "data": {
      "image/png": "[encoded data removed]",
      "text/plain": [
       "<Figure size 432x288 with 2 Axes>"
      ]
     },
     "metadata": {
      "needs_background": "light"
     },
     "output_type": "display_data"
    }
   ],
   "source": [
    "M = tf.reduce_mean(tf.squeeze(attn_weights[0]),axis=0)\n",
    "\n",
    "for i in range(PARAMS['num_layers']-1):\n",
    "    M += tf.reduce_mean(tf.squeeze(attn_weights[i+1]),axis=0)\n",
    "    \n",
    "sns.heatmap(M, cmap='Greys')"
   ]
  },
  {
   "cell_type": "code",
   "execution_count": 26,
   "metadata": {},
   "outputs": [],
   "source": [
    "# plt.figure(figsize=(15,5))\n",
    "# plt.subplot(1,2,1)\n",
    "# plt.scatter(contributions[train_size:,1], my_shap[:,0])\n",
    "# plt.plot(range(-2,5), range(-2,5), 'r')\n",
    "# plt.title('age - contributions (approx vs true)')\n",
    "# plt.subplot(1,2,2)\n",
    "# plt.scatter(contributions[train_size:,2], my_shap[:,1])\n",
    "# plt.plot(range(-2,5), range(-2,5), 'r')\n",
    "# plt.title('bmi - contributions (approx vs true)')"
   ]
  },
  {
   "cell_type": "code",
   "execution_count": 27,
   "metadata": {},
   "outputs": [],
   "source": [
    "# plt.figure(figsize=(15,5))\n",
    "# plt.subplot(1,2,1)\n",
    "# plt.scatter(contributions[train_size:,1], shap_val[:,0])\n",
    "# plt.plot(range(-2,5), range(-2,5), 'r')\n",
    "# plt.title('age - contributions (exact vs true)')\n",
    "# plt.subplot(1,2,2)\n",
    "# plt.scatter(contributions[train_size:,2], shap_val[:,1])\n",
    "# plt.plot(range(-2,5), range(-2,5), 'r')\n",
    "# plt.title('bmi - contributions (exact vs true)')"
   ]
  },
  {
   "cell_type": "code",
   "execution_count": null,
   "metadata": {},
   "outputs": [],
   "source": []
  }
 ],
 "metadata": {
  "kernelspec": {
   "display_name": "Python 3",
   "language": "python",
   "name": "python3"
  },
  "language_info": {
   "codemirror_mode": {
    "name": "ipython",
    "version": 3
   },
   "file_extension": ".py",
   "mimetype": "text/x-python",
   "name": "python",
   "nbconvert_exporter": "python",
   "pygments_lexer": "ipython3",
   "version": "3.7.7"
  }
 },
 "nbformat": 4,
 "nbformat_minor": 4
}
