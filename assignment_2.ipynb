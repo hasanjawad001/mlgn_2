{
 "cells": [
  {
   "cell_type": "markdown",
   "metadata": {},
   "source": [
    "# Jawad Chowdhury : 801135477"
   ]
  },
  {
   "cell_type": "code",
   "execution_count": 58,
   "metadata": {},
   "outputs": [],
   "source": [
    "#### import\n",
    "import networkx as nx\n",
    "import numpy as np\n",
    "import matplotlib\n",
    "import matplotlib.pyplot as plt\n",
    "import matplotlib.gridspec as gridspec"
   ]
  },
  {
   "cell_type": "markdown",
   "metadata": {},
   "source": [
    "## 1. Signed Networks (Slashdot)"
   ]
  },
  {
   "cell_type": "markdown",
   "metadata": {},
   "source": [
    "### 1a. compute the number of triangles in the network"
   ]
  },
  {
   "cell_type": "code",
   "execution_count": 62,
   "metadata": {},
   "outputs": [],
   "source": [
    "file_name = \"datasets/soc-sign-Slashdot081106.txt\"\n",
    "uG_s = nx.read_edgelist(file_name, nodetype=int, data=((\"sign\", int),))"
   ]
  },
  {
   "cell_type": "code",
   "execution_count": null,
   "metadata": {},
   "outputs": [],
   "source": []
  },
  {
   "cell_type": "code",
   "execution_count": 63,
   "metadata": {},
   "outputs": [],
   "source": [
    "dict_triangles = nx.triangles(uG_s)"
   ]
  },
  {
   "cell_type": "code",
   "execution_count": 64,
   "metadata": {},
   "outputs": [
    {
     "name": "stdout",
     "output_type": "stream",
     "text": [
      "The number of triangles in the network :  548054.0\n"
     ]
    }
   ],
   "source": [
    "print(\"The number of triangles in the network : \", sum(nx.triangles(uG_s).values()) / 3)"
   ]
  },
  {
   "cell_type": "markdown",
   "metadata": {},
   "source": [
    "### 1b. Report the fraction of balanced triangles and unbalanced triangles. (assume network is undirected;\n",
    "### if there is a sign for each direction, randomly pick one.)"
   ]
  },
  {
   "cell_type": "code",
   "execution_count": 65,
   "metadata": {},
   "outputs": [],
   "source": [
    "triangles = [c for c in nx.cycle_basis(uG_s) if len(c)==3]\n",
    "triangle_types={}\n",
    "for triangle in triangles:\n",
    "    tri=nx.subgraph(uG_s,triangle)\n",
    "    triangle_types[tuple(tri.nodes())]=np.product([x[2]['sign'] for x in tri.edges(data=True)])"
   ]
  },
  {
   "cell_type": "code",
   "execution_count": 66,
   "metadata": {},
   "outputs": [],
   "source": [
    "n_bal = 0\n",
    "n_imbal = 0\n",
    "for k, v in triangle_types.items():\n",
    "    if v==1:\n",
    "        n_bal +=1\n",
    "    else:\n",
    "        n_imbal +=1\n",
    "f_bal = n_bal/(n_bal+n_imbal)\n",
    "f_imbal = n_imbal/(n_bal+n_imbal)"
   ]
  },
  {
   "cell_type": "code",
   "execution_count": 67,
   "metadata": {},
   "outputs": [
    {
     "name": "stdout",
     "output_type": "stream",
     "text": [
      "Fraction of balanced triangles :  0.838768747820021\n",
      "Fraction of unbalanced triangles :  0.16123125217997908\n"
     ]
    }
   ],
   "source": [
    "print(\"Fraction of balanced triangles : \", f_bal)\n",
    "print(\"Fraction of unbalanced triangles : \", f_imbal)"
   ]
  },
  {
   "cell_type": "markdown",
   "metadata": {},
   "source": [
    "### 1c. Compare the frequency of signed triads in real and “shuffled” networks (refer slides) (assume\n",
    "### network is undirected; if there is a sign for each direction, randomly pick one.)"
   ]
  },
  {
   "cell_type": "code",
   "execution_count": 68,
   "metadata": {},
   "outputs": [],
   "source": [
    "triangles = [c for c in nx.cycle_basis(uG_s) if len(c)==3]"
   ]
  },
  {
   "cell_type": "code",
   "execution_count": 69,
   "metadata": {},
   "outputs": [],
   "source": [
    "triangle_types={}\n",
    "for triangle in triangles:\n",
    "    tri=nx.subgraph(uG_s,triangle)\n",
    "    triangle_types[tuple(tri.nodes())]=np.sum([x[2]['sign'] for x in tri.edges(data=True)])"
   ]
  },
  {
   "cell_type": "code",
   "execution_count": 70,
   "metadata": {},
   "outputs": [],
   "source": [
    "triangle_type_t3 = {}\n",
    "triangle_type_t2 = {}\n",
    "triangle_type_t1 = {}\n",
    "triangle_type_t0 = {}\n",
    "for k,v in triangle_types.items():\n",
    "    if v==3:\n",
    "        triangle_type_t3[k] = v\n",
    "    elif v==1:\n",
    "        triangle_type_t2[k] = v\n",
    "    elif v==-1:\n",
    "        triangle_type_t1[k] = v\n",
    "    elif v==-3:\n",
    "        triangle_type_t0[k] = v"
   ]
  },
  {
   "cell_type": "code",
   "execution_count": 71,
   "metadata": {},
   "outputs": [],
   "source": [
    "n_real_t3=len(triangle_type_t3.items())\n",
    "n_real_t2=len(triangle_type_t2.items())\n",
    "n_real_t1=len(triangle_type_t1.items())\n",
    "n_real_t0=len(triangle_type_t0.items())"
   ]
  },
  {
   "cell_type": "code",
   "execution_count": 72,
   "metadata": {},
   "outputs": [
    {
     "name": "stdout",
     "output_type": "stream",
     "text": [
      "0.6367718869898848 0.12722357865364492 0.20199686083013604 0.034007673526334145\n"
     ]
    }
   ],
   "source": [
    "n_real = n_real_t3 + n_real_t2 + n_real_t1 + n_real_t0\n",
    "print(n_real_t3/n_real, n_real_t2/n_real, n_real_t1/n_real, n_real_t0/n_real)"
   ]
  },
  {
   "cell_type": "code",
   "execution_count": 83,
   "metadata": {},
   "outputs": [],
   "source": [
    "cpos=0\n",
    "cneg=0\n",
    "for e in uG_s.edges(data=True):\n",
    "    if e[2]['sign'] == 1:\n",
    "        cpos +=1\n",
    "    else:\n",
    "        cneg +=1\n",
    "cpos_cneg = [1]*cpos + [-1]*cneg\n",
    "import random\n",
    "random.shuffle(cpos_cneg) "
   ]
  },
  {
   "cell_type": "code",
   "execution_count": 84,
   "metadata": {},
   "outputs": [],
   "source": [
    "uG_s_shuffled = uG_s.copy()"
   ]
  },
  {
   "cell_type": "code",
   "execution_count": 85,
   "metadata": {},
   "outputs": [],
   "source": [
    "i=0\n",
    "for e in uG_s_shuffled.edges(data=True):\n",
    "    e[2]['sign']=cpos_cneg[i]\n",
    "    i+=1"
   ]
  },
  {
   "cell_type": "code",
   "execution_count": 86,
   "metadata": {},
   "outputs": [],
   "source": [
    "shuffled_triangles = [c for c in nx.cycle_basis(uG_s_shuffled) if len(c)==3]"
   ]
  },
  {
   "cell_type": "code",
   "execution_count": 87,
   "metadata": {},
   "outputs": [],
   "source": [
    "shuffled_triangle_types={}\n",
    "for triangle in shuffled_triangles:\n",
    "    tri=nx.subgraph(uG_s_shuffled,triangle)\n",
    "    shuffled_triangle_types[tuple(tri.nodes())]=np.sum([x[2]['sign'] for x in tri.edges(data=True)])"
   ]
  },
  {
   "cell_type": "code",
   "execution_count": 88,
   "metadata": {},
   "outputs": [],
   "source": [
    "shuffled_triangle_type_t3 = {}\n",
    "shuffled_triangle_type_t2 = {}\n",
    "shuffled_triangle_type_t1 = {}\n",
    "shuffled_triangle_type_t0 = {}\n",
    "for k,v in shuffled_triangle_types.items():\n",
    "    if v==3:\n",
    "        shuffled_triangle_type_t3[k] = v\n",
    "    elif v==1:\n",
    "        shuffled_triangle_type_t2[k] = v\n",
    "    elif v==-1:\n",
    "        shuffled_triangle_type_t1[k] = v\n",
    "    elif v==-3:\n",
    "        shuffled_triangle_type_t0[k] = v"
   ]
  },
  {
   "cell_type": "code",
   "execution_count": 89,
   "metadata": {},
   "outputs": [],
   "source": [
    "n_shuffled_t3=len(shuffled_triangle_type_t3.items())\n",
    "n_shuffled_t2=len(shuffled_triangle_type_t2.items())\n",
    "n_shuffled_t1=len(shuffled_triangle_type_t1.items())\n",
    "n_shuffled_t0=len(shuffled_triangle_type_t0.items())"
   ]
  },
  {
   "cell_type": "code",
   "execution_count": 90,
   "metadata": {},
   "outputs": [
    {
     "name": "stdout",
     "output_type": "stream",
     "text": [
      "0.4092593419349078 0.42640296441805436 0.14755122996562348 0.01678646368141435\n"
     ]
    }
   ],
   "source": [
    "n_shuffled = n_shuffled_t3 + n_shuffled_t2 + n_shuffled_t1 + n_shuffled_t0\n",
    "print(n_shuffled_t3/n_shuffled, n_shuffled_t2/n_shuffled, n_shuffled_t1/n_shuffled, n_shuffled_t0/n_shuffled)"
   ]
  },
  {
   "cell_type": "markdown",
   "metadata": {},
   "source": [
    "| Triad           | Real, P(T)  | Shuffled, P(T<sub>0</sub>)   | Consistent with Balance?|\n",
    "| :---            |   :----:    |       :----:                 |                    ---: |\n",
    "| T_3 (Balanced)  | 0.64        | 0.41                         |        Yes              |\n",
    "| T_1 (Balanced)  | 0.20        | 0.15                         |        Yes              |\n",
    "| T_2 (Unbalanced)| 0.13        | 0.42                         |        Yes              |\n",
    "| T_0 (Unbalanced)| 0.03        | 0.02                         |        No               |"
   ]
  },
  {
   "cell_type": "markdown",
   "metadata": {},
   "source": [
    "### 1d. Compute “Gen. Surprise” (assume directed signed networks) for each of the 16 types"
   ]
  },
  {
   "cell_type": "code",
   "execution_count": 199,
   "metadata": {},
   "outputs": [],
   "source": [
    "# dG_s2 = nx.read_edgelist(file_name, nodetype=int, data=((\"sign\", int),), create_using=nx.DiGraph)\n",
    "# dG_s=nx.subgraph(dG_s2,list(range(300)))\n",
    "\n",
    "dG_s = nx.read_edgelist(file_name, nodetype=int, data=((\"sign\", int),), create_using=nx.DiGraph)"
   ]
  },
  {
   "cell_type": "code",
   "execution_count": 200,
   "metadata": {},
   "outputs": [],
   "source": [
    "uG_s = dG_s.to_undirected()\n",
    "triangles = [c for c in nx.cycle_basis(uG_s) if len(c)==3]"
   ]
  },
  {
   "cell_type": "code",
   "execution_count": 201,
   "metadata": {},
   "outputs": [],
   "source": [
    "t={}\n",
    "for i in range(1,17,1):\n",
    "    t[i]=[]"
   ]
  },
  {
   "cell_type": "code",
   "execution_count": 202,
   "metadata": {},
   "outputs": [],
   "source": [
    "def get_t(t,a,b,x,dG_s):\n",
    "    sg = nx.subgraph(dG_s,[a,b,x])\n",
    "    sg_edges = sg.edges()\n",
    "    sg_edges_data = sg.edges(data=True)\n",
    "\n",
    "    if (a,b) in sg_edges and (a,x,{'sign':1}) in sg_edges_data and (x,b,{'sign':1}) in sg_edges_data:\n",
    "        if (a,b,x) not in t[1]:\n",
    "            t[1].append((a,b,x))\n",
    "    elif (a,b) in sg_edges and (a,x,{'sign':1}) in sg_edges_data and (x,b,{'sign':-1}) in sg_edges_data:\n",
    "        if (a,b,x) not in t[2]:\n",
    "            t[2].append((a,b,x))\n",
    "    elif (a,b) in sg_edges and (a,x,{'sign':-1}) in sg_edges_data and (x,b,{'sign':1}) in sg_edges_data:\n",
    "        if (a,b,x) not in t[5]:\n",
    "            t[5].append((a,b,x))\n",
    "    elif (a,b) in sg_edges and (a,x,{'sign':-1}) in sg_edges_data and (x,b,{'sign':-1}) in sg_edges_data:\n",
    "        if (a,b,x) not in t[6]:\n",
    "            t[6].append((a,b,x))\n",
    "\n",
    "    elif (a,b) in sg_edges and (a,x,{'sign':1}) in sg_edges_data and (b,x,{'sign':1}) in sg_edges_data:\n",
    "        if (a,b,x) not in t[3]:\n",
    "            t[3].append((a,b,x))\n",
    "    elif (a,b) in sg_edges and (a,x,{'sign':1}) in sg_edges_data and (b,x,{'sign':-1}) in sg_edges_data:\n",
    "        if (a,b,x) not in t[4]:\n",
    "            t[4].append((a,b,x))\n",
    "    elif (a,b) in sg_edges and (a,x,{'sign':-1}) in sg_edges_data and (b,x,{'sign':1}) in sg_edges_data:\n",
    "        if (a,b,x) not in t[7]:\n",
    "            t[7].append((a,b,x))\n",
    "    elif (a,b) in sg_edges and (a,x,{'sign':-1}) in sg_edges_data and (b,x,{'sign':-1}) in sg_edges_data:\n",
    "        if (a,b,x) not in t[8]:\n",
    "            t[8].append((a,b,x))\n",
    "\n",
    "    elif (a,b) in sg_edges and (x,a,{'sign':1}) in sg_edges_data and (x,b,{'sign':1}) in sg_edges_data:\n",
    "        if (a,b,x) not in t[9]:\n",
    "            t[9].append((a,b,x))\n",
    "    elif (a,b) in sg_edges and (x,a,{'sign':1}) in sg_edges_data and (x,b,{'sign':-1}) in sg_edges_data:\n",
    "        if (a,b,x) not in t[10]:\n",
    "            t[10].append((a,b,x))\n",
    "    elif (a,b) in sg_edges and (x,a,{'sign':-1}) in sg_edges_data and (x,b,{'sign':1}) in sg_edges_data:\n",
    "        if (a,b,x) not in t[13]:\n",
    "            t[13].append((a,b,x))\n",
    "    elif (a,b) in sg_edges and (x,a,{'sign':-1}) in sg_edges_data and (x,b,{'sign':-1}) in sg_edges_data:\n",
    "        if (a,b,x) not in t[14]:\n",
    "            t[14].append((a,b,x))\n",
    "\n",
    "    elif (a,b) in sg_edges and (x,a,{'sign':1}) in sg_edges_data and (b,x,{'sign':1}) in sg_edges_data:\n",
    "        if (a,b,x) not in t[11]:\n",
    "            t[11].append((a,b,x))\n",
    "    elif (a,b) in sg_edges and (x,a,{'sign':1}) in sg_edges_data and (b,x,{'sign':-1}) in sg_edges_data:\n",
    "        if (a,b,x) not in t[12]:\n",
    "            t[12].append((a,b,x))\n",
    "    elif (a,b) in sg_edges and (x,a,{'sign':-1}) in sg_edges_data and (b,x,{'sign':1}) in sg_edges_data:\n",
    "        if (a,b,x) not in t[15]:\n",
    "            t[15].append((a,b,x))\n",
    "    elif (a,b) in sg_edges and (x,a,{'sign':-1}) in sg_edges_data and (b,x,{'sign':-1}) in sg_edges_data:\n",
    "        if (a,b,x) not in t[16]:\n",
    "            t[16].append((a,b,x))\n",
    "    return t"
   ]
  },
  {
   "cell_type": "code",
   "execution_count": 203,
   "metadata": {},
   "outputs": [],
   "source": [
    "for utriad in triangles:\n",
    "    (a,b,x) = utriad\n",
    "    t=get_t(t,a,b,x,dG_s)\n",
    "    (a,x,b) = utriad\n",
    "    t=get_t(t,a,b,x,dG_s)\n",
    "    (b,a,x) = utriad\n",
    "    t=get_t(t,a,b,x,dG_s)\n",
    "    (b,x,a) = utriad\n",
    "    t=get_t(t,a,b,x,dG_s)\n",
    "    (x,a,b) = utriad\n",
    "    t=get_t(t,a,b,x,dG_s)\n",
    "    (x,b,a) = utriad\n",
    "    t=get_t(t,a,b,x,dG_s)"
   ]
  },
  {
   "cell_type": "code",
   "execution_count": 204,
   "metadata": {},
   "outputs": [
    {
     "name": "stdout",
     "output_type": "stream",
     "text": [
      "1 34308\n",
      "2 2294\n",
      "3 14375\n",
      "4 1449\n",
      "5 3749\n",
      "6 1645\n",
      "7 2491\n",
      "8 1773\n",
      "9 11811\n",
      "10 1259\n",
      "11 544\n",
      "12 142\n",
      "13 1213\n",
      "14 2915\n",
      "15 132\n",
      "16 86\n"
     ]
    }
   ],
   "source": [
    "for k,v in t.items():\n",
    "    print(k,len(v))"
   ]
  },
  {
   "cell_type": "code",
   "execution_count": 221,
   "metadata": {},
   "outputs": [],
   "source": [
    "import math\n",
    "def get_gen_surprise(v=[]):\n",
    "    k=0\n",
    "    list_pgai = []\n",
    "    for t in v:\n",
    "        if dG_s[t[0]][t[1]]['sign']==1:\n",
    "            k+=1\n",
    "            \n",
    "        ai=t[0]\n",
    "        ai_gen_edges = dG_s.out_edges(ai)\n",
    "        n_ai_gen_edges = len(ai_gen_edges)\n",
    "        if n_ai_gen_edges==0:\n",
    "            list_pgai.append(0)\n",
    "            continue\n",
    "        cp=0\n",
    "        for e in ai_gen_edges:\n",
    "            if dG_s[e[0]][e[1]]['sign']==1:\n",
    "                cp+=1\n",
    "        prob_gen_ai = (cp/n_ai_gen_edges)\n",
    "        list_pgai.append(prob_gen_ai)\n",
    "    \n",
    "    sum_of_pgai = 0\n",
    "    sum_of_pgai_mul_comp_pgai = 0\n",
    "    for e in list_pgai:\n",
    "        sum_of_pgai +=e\n",
    "        sum_of_pgai_mul_comp_pgai += e*(1-e)\n",
    "    result = (k-sum_of_pgai)/math.sqrt(sum_of_pgai_mul_comp_pgai)\n",
    "    return result"
   ]
  },
  {
   "cell_type": "code",
   "execution_count": 222,
   "metadata": {},
   "outputs": [
    {
     "name": "stdout",
     "output_type": "stream",
     "text": [
      "Gen. Surprise (for each of 16 types)\n",
      "T= 1  :  38.20467542285642\n",
      "T= 2  :  -34.3655383422227\n",
      "T= 3  :  24.758926384494785\n",
      "T= 4  :  -18.55978615212179\n",
      "T= 5  :  -9.382142936100609\n",
      "T= 6  :  6.033886456950722\n",
      "T= 7  :  -11.643346429787199\n",
      "T= 8  :  17.288710145967435\n",
      "T= 9  :  28.507429633591315\n",
      "T= 10  :  -18.963198203816113\n",
      "T= 11  :  4.7700135762088385\n",
      "T= 12  :  -3.76480214332523\n",
      "T= 13  :  -4.842128283177797\n",
      "T= 14  :  1.0251980073754139\n",
      "T= 15  :  -1.371184672192175\n",
      "T= 16  :  0.4980906392657173\n"
     ]
    }
   ],
   "source": [
    "print(\"Gen. Surprise (for each of 16 types)\")\n",
    "for k,v in t.items():\n",
    "    print('T=',k,' : ',get_gen_surprise(v))"
   ]
  },
  {
   "cell_type": "code",
   "execution_count": null,
   "metadata": {},
   "outputs": [],
   "source": []
  },
  {
   "cell_type": "markdown",
   "metadata": {},
   "source": [
    "### 1e. Rewrite the formula for “Rec. Surprise” using the idea introduced in “Gen. Surprise”"
   ]
  },
  {
   "cell_type": "markdown",
   "metadata": {},
   "source": [
    "Formula for 'Rec. Surprise':\n",
    "$$\n",
    "S_r(X) = \\dfrac{k - \\sum_{i=1}^{n} P_r(A_i) }{\\sqrt{P_r(A_i) * (1-P_r(A_i))}}\n",
    "$$"
   ]
  },
  {
   "cell_type": "code",
   "execution_count": null,
   "metadata": {},
   "outputs": [],
   "source": []
  },
  {
   "cell_type": "markdown",
   "metadata": {},
   "source": [
    "### 1f. Compute “Rec. Surprise” for all each of the 16 types."
   ]
  },
  {
   "cell_type": "code",
   "execution_count": 223,
   "metadata": {},
   "outputs": [],
   "source": [
    "import math\n",
    "def get_rec_surprise(v=[]):\n",
    "    k=0\n",
    "    list_prai = []\n",
    "    for t in v:\n",
    "        if dG_s[t[0]][t[1]]['sign']==1:\n",
    "            k+=1\n",
    "            \n",
    "        ai=t[0]\n",
    "        ai_rec_edges = dG_s.in_edges(ai)\n",
    "        n_ai_rec_edges = len(ai_rec_edges)\n",
    "        if n_ai_rec_edges==0:\n",
    "            list_prai.append(0)\n",
    "            continue\n",
    "        cp=0\n",
    "        for e in ai_rec_edges:\n",
    "            if dG_s[e[0]][e[1]]['sign']==1:\n",
    "                cp+=1\n",
    "        prob_rec_ai = (cp/n_ai_rec_edges)\n",
    "        list_prai.append(prob_rec_ai)\n",
    "\n",
    "    sum_of_prai = 0\n",
    "    sum_of_prai_mul_comp_prai = 0\n",
    "    for e in list_prai:\n",
    "        sum_of_prai +=e\n",
    "        sum_of_prai_mul_comp_prai += e*(1-e)\n",
    "    result = (k-sum_of_prai)/math.sqrt(sum_of_prai_mul_comp_prai)\n",
    "    return result"
   ]
  },
  {
   "cell_type": "code",
   "execution_count": 224,
   "metadata": {},
   "outputs": [
    {
     "name": "stdout",
     "output_type": "stream",
     "text": [
      "Rec. Surprise (for each of 16 types)\n",
      "T= 1  :  81.24812745525661\n",
      "T= 2  :  -35.34180242799213\n",
      "T= 3  :  53.07907920727959\n",
      "T= 4  :  -12.033104064438797\n",
      "T= 5  :  -48.32696247477239\n",
      "T= 6  :  -6.4338609629776276\n",
      "T= 7  :  -43.775847935209235\n",
      "T= 8  :  0.8675958669642168\n",
      "T= 9  :  31.452897821542905\n",
      "T= 10  :  -32.85991135169408\n",
      "T= 11  :  4.757702452562508\n",
      "T= 12  :  -4.544570803451088\n",
      "T= 13  :  10.80308754750378\n",
      "T= 14  :  29.737014750336794\n",
      "T= 15  :  3.468028789194091\n",
      "T= 16  :  6.542325796837684\n"
     ]
    }
   ],
   "source": [
    "print(\"Rec. Surprise (for each of 16 types)\")\n",
    "for k,v in t.items():\n",
    "    print('T=',k,' : ',get_rec_surprise(v))"
   ]
  },
  {
   "cell_type": "code",
   "execution_count": null,
   "metadata": {},
   "outputs": [],
   "source": []
  },
  {
   "cell_type": "markdown",
   "metadata": {},
   "source": [
    "## 2. The SIR Model of Disease Spreading"
   ]
  },
  {
   "cell_type": "code",
   "execution_count": 314,
   "metadata": {},
   "outputs": [],
   "source": [
    "### algorithm 1\n",
    "\n",
    "from collections import Counter\n",
    "import random\n",
    "def subtract_list(x,y):\n",
    "    return list((Counter(x) - Counter(y)).elements())\n",
    "\n",
    "def algorithm_1(G):\n",
    "    beta, delta = 0.05, 0.5\n",
    "    V = list(G.nodes())\n",
    "    I = [random.choice(V)]\n",
    "    S = subtract_list(V,I)\n",
    "    R = []\n",
    "    \n",
    "    while len(I) != 0:\n",
    "        S_prime = []\n",
    "        I_prime = []\n",
    "        J_prime = []\n",
    "        R_prime = []\n",
    "\n",
    "        for u in V:\n",
    "            if u in S:\n",
    "                list_edge_uv = G.edges(u)\n",
    "                for uv in list_edge_uv:\n",
    "                    v = uv[0] if uv[0] != u else uv[1]\n",
    "                    if v in I:\n",
    "                        r = random.uniform(0, 1)\n",
    "                        if r <= beta:\n",
    "                            if u not in S_prime:\n",
    "                                S_prime.append(u)\n",
    "                            if u not in I_prime:\n",
    "                                I_prime.append(u)\n",
    "                            break\n",
    "            elif u in I:\n",
    "                r = random.uniform(0,1)\n",
    "                if r <= delta:\n",
    "                    if u not in J_prime:\n",
    "                        J_prime.append(u)\n",
    "                    if u not in R_prime:\n",
    "                        R_prime.append(u)\n",
    "\n",
    "\n",
    "        S = list(set(subtract_list(S, S_prime)))\n",
    "        I = list(set(subtract_list((I + I_prime), J_prime)))\n",
    "        R = list(set(R + R_prime))\n",
    "        \n",
    "    return S,I,R"
   ]
  },
  {
   "cell_type": "code",
   "execution_count": null,
   "metadata": {},
   "outputs": [],
   "source": []
  },
  {
   "cell_type": "code",
   "execution_count": 232,
   "metadata": {},
   "outputs": [],
   "source": [
    "dG_s2 = nx.read_edgelist(file_name, nodetype=int, data=((\"sign\", int),), create_using=nx.DiGraph)\n",
    "dG_s=nx.subgraph(dG_s2,list(range(30)))\n",
    "uG_s = dG_s.to_undirected()\n",
    "uG_actor = nx.read_edgelist('datasets/imdb_actor_edges.tsv', nodetype=int, data=((\"num_movies\", int),))\n",
    "uG_erdos = nx.read_edgelist('datasets/SIR_erdos_renyi.txt', nodetype=int)\n",
    "uG_prefer = nx.read_edgelist('datasets/SIR_preferential_attachment.txt', nodetype=int)"
   ]
  },
  {
   "cell_type": "code",
   "execution_count": 317,
   "metadata": {},
   "outputs": [
    {
     "name": "stdout",
     "output_type": "stream",
     "text": [
      "[29]\n",
      "[0, 3, 5, 6, 8, 9, 16, 20, 22, 24, 26]\n",
      "[7]\n",
      "[1]\n",
      "[27]\n",
      "[1]\n",
      "[27, 29]\n",
      "[8]\n",
      "[0]\n",
      "[23]\n"
     ]
    }
   ],
   "source": [
    "for iter in range(10):\n",
    "    s, i, r = algorithm_1(uG_s)\n",
    "    print(r)"
   ]
  },
  {
   "cell_type": "code",
   "execution_count": null,
   "metadata": {},
   "outputs": [],
   "source": []
  },
  {
   "cell_type": "code",
   "execution_count": null,
   "metadata": {},
   "outputs": [],
   "source": []
  },
  {
   "cell_type": "code",
   "execution_count": null,
   "metadata": {},
   "outputs": [],
   "source": []
  },
  {
   "cell_type": "code",
   "execution_count": null,
   "metadata": {},
   "outputs": [],
   "source": []
  },
  {
   "cell_type": "code",
   "execution_count": null,
   "metadata": {},
   "outputs": [],
   "source": []
  },
  {
   "cell_type": "code",
   "execution_count": null,
   "metadata": {},
   "outputs": [],
   "source": []
  },
  {
   "cell_type": "code",
   "execution_count": null,
   "metadata": {},
   "outputs": [],
   "source": []
  },
  {
   "cell_type": "code",
   "execution_count": null,
   "metadata": {},
   "outputs": [],
   "source": []
  },
  {
   "cell_type": "code",
   "execution_count": null,
   "metadata": {},
   "outputs": [],
   "source": []
  },
  {
   "cell_type": "code",
   "execution_count": null,
   "metadata": {},
   "outputs": [],
   "source": []
  },
  {
   "cell_type": "code",
   "execution_count": null,
   "metadata": {},
   "outputs": [],
   "source": []
  },
  {
   "cell_type": "code",
   "execution_count": null,
   "metadata": {},
   "outputs": [],
   "source": []
  }
 ],
 "metadata": {
  "kernelspec": {
   "display_name": "Python 3",
   "language": "python",
   "name": "python3"
  },
  "language_info": {
   "codemirror_mode": {
    "name": "ipython",
    "version": 3
   },
   "file_extension": ".py",
   "mimetype": "text/x-python",
   "name": "python",
   "nbconvert_exporter": "python",
   "pygments_lexer": "ipython3",
   "version": "3.7.7"
  }
 },
 "nbformat": 4,
 "nbformat_minor": 4
}
